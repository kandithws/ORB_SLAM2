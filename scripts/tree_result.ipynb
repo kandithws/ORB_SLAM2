{
 "nbformat": 4,
 "nbformat_minor": 2,
 "metadata": {
  "language_info": {
   "name": "python",
   "codemirror_mode": {
    "name": "ipython",
    "version": 3
   },
   "version": "3.5.6"
  },
  "orig_nbformat": 2,
  "file_extension": ".py",
  "mimetype": "text/x-python",
  "name": "python",
  "npconvert_exporter": "python",
  "pygments_lexer": "ipython3",
  "version": 3
 },
 "cells": [
  {
   "cell_type": "code",
   "execution_count": 1,
   "metadata": {},
   "outputs": [],
   "source": [
    "%matplotlib inline\n",
    "import numpy as np\n",
    "import pandas as pd\n",
    "import transformations as tf\n",
    "import matplotlib.pyplot as plt\n",
    "import pcl\n",
    "import os\n",
    "import os.path as osp"
   ]
  },
  {
   "cell_type": "code",
   "execution_count": 2,
   "metadata": {},
   "outputs": [],
   "source": [
    "BASE_PATH = './data/tree2/test'\n",
    "keyframes = pd.read_csv(osp.join(BASE_PATH, 'keyframes_with_id.txt'), sep=' ')\n",
    "objects = pd.read_csv(osp.join(BASE_PATH,'objects.txt'), sep=' ')"
   ]
  },
  {
   "cell_type": "code",
   "execution_count": 3,
   "metadata": {},
   "outputs": [],
   "source": [
    "# Loaded as XYZ pointclouds\n",
    "map_cloud = pcl.load(osp.join(BASE_PATH, 'map.pcd'))\n",
    "# object clouds\n",
    "obj_clouds = {}\n",
    "for i in objects['#id']:\n",
    "    obj_clouds[i] = pcl.load(osp.join(BASE_PATH, 'object_pointclouds', '{}.pcd'.format(i)))"
   ]
  },
  {
   "cell_type": "code",
   "execution_count": 4,
   "metadata": {},
   "outputs": [],
   "source": [
    "def _get_tf_mat_from_row(drow):\n",
    "    q = np.array(drow[['qw', 'qx', 'qy', 'qz']])\n",
    "    t = np.array(drow[['x', 'y', 'z']]).reshape(3)\n",
    "    T = tf.quaternion_matrix(q)\n",
    "    T[:3, 3] = t\n",
    "    return T\n",
    "\n",
    "def add_tf_mat_to_df(df):\n",
    "    df['T'] = df.apply(_get_tf_mat_from_row, axis=1)\n",
    "\n",
    "def transform_cloud(T, points):\n",
    "    points_homo = np.ones((points.shape[0], 4))\n",
    "    points_homo[:,:3] = points\n",
    "    points_homo = np.transpose(points_homo)\n",
    "    outs = np.matmul(T, points_homo)\n",
    "    return np.transpose(outs)[:, :3]\n",
    "\n",
    "# Transform all points to local\n",
    "def get_local_points(Two, points):\n",
    "    Tow = np.linalg.inv(Two)\n",
    "    points_homo = np.ones((points.shape[0], 4))\n",
    "    points_homo[:,:3] = points\n",
    "    points_homo = np.transpose(points_homo)\n",
    "    outs = np.matmul(Tow, points_homo)\n",
    "    return np.transpose(outs)[:, :3]"
   ]
  },
  {
   "cell_type": "code",
   "execution_count": 5,
   "metadata": {},
   "outputs": [],
   "source": [
    "add_tf_mat_to_df(keyframes)\n",
    "add_tf_mat_to_df(objects)"
   ]
  },
  {
   "cell_type": "code",
   "execution_count": 6,
   "metadata": {},
   "outputs": [],
   "source": [
    "def get_value_by_id(df, id, col_name):\n",
    "    return objects[objects['#id'] == id][col_name][0]\n",
    "\n",
    "def get_row_by_id(df, id):\n",
    "    return objects[objects['#id'] == id].iloc[0]"
   ]
  },
  {
   "cell_type": "code",
   "execution_count": 178,
   "metadata": {},
   "outputs": [],
   "source": [
    "# TODO -- validate, seems not working\n",
    "def add_tf_to_ref(data, ref_id=0):\n",
    "    Tw_ref = data[data['#id'] == ref_id]['T'][0]\n",
    "    Tref_w = np.linalg.inv(Tw_ref)\n",
    "    refcol = 'T_ref{}'.format(ref_id)\n",
    "    def _tmp_new_tf(row):\n",
    "        if row['#id'] == ref_id:\n",
    "            return np.eye(4)\n",
    "        else:\n",
    "            return Tref_w * row['T']\n",
    "    data[refcol] = data.apply(_tmp_new_tf, axis=1)"
   ]
  },
  {
   "cell_type": "code",
   "execution_count": 179,
   "metadata": {},
   "outputs": [],
   "source": [
    "add_tf_to_ref(objects)"
   ]
  },
  {
   "cell_type": "code",
   "execution_count": 7,
   "metadata": {},
   "outputs": [],
   "source": [
    "# Transform mappoints to first object (id=0) frame ref\n",
    "Tw0 = objects[objects['#id'] == 0]['T'][0]\n",
    "map_cloud_0 = pcl.PointCloud(get_local_points(Tw0, np.asarray(map_cloud)).astype(np.float32))"
   ]
  },
  {
   "cell_type": "code",
   "execution_count": 8,
   "metadata": {},
   "outputs": [],
   "source": [
    "pcl.save(map_cloud_0, 'world.pcd')"
   ]
  },
  {
   "cell_type": "code",
   "execution_count": 9,
   "metadata": {},
   "outputs": [],
   "source": [
    "def _get_cloud_in_box(cloud, size_xy, height_min, height_max, origin):\n",
    "    # TODO -- fix this using numpy all\n",
    "    out = cloud\n",
    "\n",
    "    # Filter X\n",
    "    out = out[ out[:, 0] >= origin[0] - size_xy[0]]\n",
    "    out = out[ out[:, 0] <= origin[0] + size_xy[0]]\n",
    "\n",
    "    # Filter Y\n",
    "    out = out[ out[:, 1] >= origin[1] - size_xy[1]]\n",
    "    out = out[ out[:, 1] <= origin[1] + size_xy[1]]\n",
    "\n",
    "    # Filter Height\n",
    "    out = out[ out[:, 2] >= origin[2] - height_min ]\n",
    "    out = out[ out[:, 2] <= origin[2] + height_max ]\n",
    "\n",
    "    return out\n",
    "\n",
    "# # TODO -- fix this!\n",
    "# def get_tree_cloud_in_objects(map_cloud, objects, height=5.0, height_min=0.5, size_xy=None):\n",
    "#     outcloud = {}\n",
    "#     map_cloud_raw = np.asarray(map_cloud)\n",
    "#     if size_xy is not None:\n",
    "#         assert(len(size_xy) == 2)\n",
    "    \n",
    "#     for i in objects['#id']:\n",
    "#         s_size = [0,0]\n",
    "#         obj = get_row_by_id(objects, i)\n",
    "#         T_ref0 = obj['T_ref0']\n",
    "#         t = T_ref0[:3, 3] # centroid\n",
    "#         print(t)\n",
    "#         if size_xy is None:\n",
    "#             s_size[0] = obj['sx']\n",
    "#             s_size[1] = obj['sy']\n",
    "#         else:\n",
    "#             s_size = size_xy\n",
    "        \n",
    "#         tmp_cloud = _get_cloud_in_box(map_cloud_raw, size_xy, height_min, height, t)\n",
    "\n",
    "#         outcloud[i] = pcl.PointCloud(tmp_cloud.astype(np.float32))\n",
    "\n",
    "#     return outcloud"
   ]
  },
  {
   "cell_type": "code",
   "execution_count": 14,
   "metadata": {},
   "outputs": [],
   "source": [
    "# get from world\n",
    "def naive_get_tree_cloud_in_objects(map_cloud, objects, height=5.0, height_min=0.5, size_xy=None):\n",
    "    outcloud = {}\n",
    "    map_cloud_raw = np.asarray(map_cloud)\n",
    "    if size_xy is not None:\n",
    "        assert(len(size_xy) == 2)\n",
    "    \n",
    "    for i in objects['#id']:\n",
    "        s_size = [0,0]\n",
    "        obj = get_row_by_id(objects, i)\n",
    "        T_ref0 = obj['T']\n",
    "        t = (0,0,0) # centroid\n",
    "        if size_xy is None:\n",
    "            s_size[0] = obj['sx']\n",
    "            s_size[1] = obj['sy']\n",
    "        else:\n",
    "            s_size = size_xy\n",
    "        map_cloud_local = get_local_points(T_ref0, map_cloud_raw)\n",
    "        tmp_cloud = _get_cloud_in_box(map_cloud_local, size_xy, height_min, height, t)\n",
    "\n",
    "        outcloud[i] = pcl.PointCloud(tmp_cloud.astype(np.float32))\n",
    "\n",
    "    return outcloud"
   ]
  },
  {
   "cell_type": "code",
   "execution_count": 15,
   "metadata": {},
   "outputs": [],
   "source": [
    "# For visualization purpose\n",
    "def reconstruct_world_cloud(tree_clouds, objects, ref_id=None):\n",
    "    out = []\n",
    "    for i, cloud in tree_clouds.items():\n",
    "        obj = get_row_by_id(objects, i)\n",
    "        icloud = transform_cloud(obj['T'], np.asarray(cloud))\n",
    "        out.append(icloud)\n",
    "    \n",
    "    outcloud = np.concatenate(out, axis=0)\n",
    "\n",
    "    if ref_id is None:\n",
    "        return pcl.PointCloud(outcloud.astype(np.float32))\n",
    "\n",
    "    ref_obj = get_row_by_id(objects, ref_id)\n",
    "    refcloud = get_local_points(ref_obj['T'], outcloud)\n",
    "\n",
    "    return pcl.PointCloud(refcloud.astype(np.float32))\n",
    "\n",
    "# Same as above but split for each object\n",
    "def reconstruct_each_object_clouds_world(tree_clouds, objects, ref_id=None):\n",
    "    out = {}\n",
    "    ref_obj=None\n",
    "    if ref_id is not None:\n",
    "        ref_obj = get_row_by_id(objects, ref_id)\n",
    "    \n",
    "    for i, cloud in tree_clouds.items():\n",
    "        obj = get_row_by_id(objects, i)\n",
    "        icloud = transform_cloud(obj['T'], np.asarray(cloud))\n",
    "        if ref_id is None:\n",
    "            out[i] = pcl.PointCloud(icloud.astype(np.float32))\n",
    "        else:\n",
    "            refcloud = get_local_points(ref_obj['T'], icloud)\n",
    "            out[i] = pcl.PointCloud(refcloud.astype(np.float32))\n",
    "    return out"
   ]
  },
  {
   "cell_type": "code",
   "execution_count": 21,
   "metadata": {},
   "outputs": [],
   "source": [
    "# DO NOT USE map_cloud_0, use world\n",
    "tree_clouds = naive_get_tree_cloud_in_objects(map_cloud, objects, size_xy=(1.5,1.5), height_min=0)\n",
    "recon = reconstruct_world_cloud(tree_clouds, objects, ref_id=0)\n",
    "recon_each = reconstruct_each_object_clouds_world(tree_clouds, objects, ref_id=0)\n",
    "pcl.save(recon, 'recon.pcd')"
   ]
  },
  {
   "cell_type": "code",
   "execution_count": 92,
   "metadata": {},
   "outputs": [],
   "source": [
    "pcl.save(tree_clouds[1], '1.pcd')"
   ]
  },
  {
   "cell_type": "code",
   "execution_count": 83,
   "metadata": {},
   "outputs": [],
   "source": [
    "OBJECT_ID = 0\n",
    "# Coarse SOR\n",
    "obj = get_row_by_id(objects, OBJECT_ID)\n",
    "fil = tree_clouds[OBJECT_ID].make_statistical_outlier_filter()\n",
    "fil.set_mean_k(40)\n",
    "fil.set_std_dev_mul_thresh(1.0)\n",
    "step0_inliers = fil.filter()\n",
    "pcl.save(step0_inliers, 'step0.pcd')\n",
    "\n",
    "# Remove trunk\n",
    "fil = step0_inliers.make_passthrough_filter()\n",
    "fil.set_filter_field_name('z')\n",
    "fil.set_filter_limits(obj['sz']*2, 99.0)\n",
    "step1_inliers = fil.filter()\n",
    "pcl.save(step1_inliers, 'step1.pcd')\n",
    "\n",
    "# Smooth cylinder surface\n",
    "fil = step1_inliers.make_moving_least_squares()\n",
    "fil.set_search_radius(0.4)\n",
    "fil.set_polynomial_order(2)\n",
    "step2_inliers = fil.process()\n",
    "pcl.save(step2_inliers, 'step2.pcd')\n",
    "\n",
    "# Fine SOR\n",
    "fil = step2_inliers.make_statistical_outlier_filter()\n",
    "fil.set_mean_k(5)\n",
    "fil.set_std_dev_mul_thresh(1.0)\n",
    "step3_inliers = fil.filter()\n",
    "pcl.save(step3_inliers, 'step3.pcd')\n",
    "\n",
    "# SAC_cylinder extraction (not work)\n",
    "# seg = step3_inliers.make_segmenter_normals()\n",
    "# seg.set_optimize_coefficients(True)\n",
    "# seg.set_model_type(pcl.SACMODEL_CYLINDER)\n",
    "# seg.set_method_type(pcl.SAC_RANSAC)\n",
    "# seg.set_max_iterations(10000)\n",
    "# seg.set_normal_distance_weight(0.1)\n",
    "# seg.set_distance_threshold(1) # this is quite sparse pointclouds\n",
    "# seg.set_axis(0,0,1)\n",
    "# indices, model = seg.segment()"
   ]
  },
  {
   "cell_type": "code",
   "execution_count": 147,
   "metadata": {},
   "outputs": [],
   "source": [
    "def post_process_tree_cloud(tree, sz):\n",
    "    # Coarse SOR\n",
    "    fil = tree.make_statistical_outlier_filter()\n",
    "    fil.set_mean_k(40)\n",
    "    fil.set_std_dev_mul_thresh(1.0)\n",
    "    step0_inliers = fil.filter()\n",
    "    # Remove trunk\n",
    "    fil = step0_inliers.make_passthrough_filter()\n",
    "    fil.set_filter_field_name('z')\n",
    "    fil.set_filter_limits(sz*2, 99.0)\n",
    "    step1_inliers = fil.filter()\n",
    "    # Smooth cylinder surface\n",
    "    fil = step1_inliers.make_moving_least_squares()\n",
    "    fil.set_search_radius(0.5)\n",
    "    fil.set_polynomial_order(2)\n",
    "    step2_inliers = fil.process()\n",
    "    # Fine SOR\n",
    "    fil = step2_inliers.make_statistical_outlier_filter()\n",
    "    fil.set_mean_k(10)\n",
    "    fil.set_std_dev_mul_thresh(0.7)\n",
    "    step3_inliers = fil.filter()\n",
    "    return step3_inliers\n",
    "\n",
    "# Assume that trunk and outliers are completely eliminate\n",
    "def get_approx_diameter(cloud):\n",
    "    cloud_array = np.asarray(cloud)\n",
    "    bound_mins = np.min(cloud_array, axis=0)\n",
    "    bound_maxs = np.max(cloud_array, axis=0)\n",
    "    size_x = bound_maxs[0] - bound_mins[0]\n",
    "    size_y = bound_maxs[1] - bound_mins[1]\n",
    "    return np.max((size_x, size_y))\n",
    "\n",
    "def get_approx_diameter_middle_chunk(cloud, percent_cut=0.4):\n",
    "    cloud_array = np.asarray(cloud)\n",
    "    # find middle chunk along z\n",
    "    z_min = np.min(cloud_array[:,2])\n",
    "    z_max = np.max(cloud_array[:,2])\n",
    "    z_size = (z_max - z_min) / 2.0\n",
    "    centroid = np.mean(cloud_array, axis=0)\n",
    "    z_th_upper = centroid[2] + (z_size * percent_cut)\n",
    "    z_th_lower = centroid[2] - (z_size * percent_cut)\n",
    "    cloud_array_inliers = cloud_array[ cloud_array[:, 2] < z_th_upper]\n",
    "    cloud_array_inliers = cloud_array_inliers[ cloud_array_inliers[:, 2] > z_th_lower]\n",
    "\n",
    "    return get_approx_diameter(cloud_array_inliers)"
   ]
  },
  {
   "cell_type": "code",
   "execution_count": 133,
   "metadata": {},
   "outputs": [],
   "source": [
    "for i, cloud in tree_clouds.items():\n",
    "    obj = get_row_by_id(objects, i)\n",
    "    cloud = post_process_tree_cloud(cloud, obj['sz'])\n",
    "    pcl.save(cloud, 'post{}.pcd'.format(i))"
   ]
  },
  {
   "cell_type": "code",
   "execution_count": 148,
   "metadata": {},
   "outputs": [
    {
     "name": "stdout",
     "output_type": "stream",
     "text": "1.0453691\n0.8730954\n"
    }
   ],
   "source": [
    "obj = get_row_by_id(objects, 0)\n",
    "cloud = post_process_tree_cloud(tree_clouds[0], obj['sz'])\n",
    "print(get_approx_diameter(cloud))\n",
    "print(get_approx_diameter_middle_chunk(cloud))"
   ]
  },
  {
   "cell_type": "code",
   "execution_count": 146,
   "metadata": {},
   "outputs": [
    {
     "name": "stdout",
     "output_type": "stream",
     "text": "upper: 0.9747825741767884, lower0.5372941613197326\n"
    },
    {
     "data": {
      "text/plain": "0.8730954"
     },
     "execution_count": 146,
     "metadata": {},
     "output_type": "execute_result"
    }
   ],
   "source": [
    "pcl.save(cloud, 'temp1.pcd')\n",
    "cloud_array = np.asarray(cloud)\n",
    "percent_cut = 0.4\n",
    "# find middle chunk along z\n",
    "z_min = np.min(cloud_array[:,2])\n",
    "z_max = np.max(cloud_array[:,2])\n",
    "z_size = (z_max - z_min) / 2.0\n",
    "centroid = np.mean(cloud_array, axis=0)\n",
    "z_th_upper = centroid[2] + (z_size * percent_cut)\n",
    "z_th_lower = centroid[2] - (z_size * percent_cut)\n",
    "print('upper: {}, lower{}'.format(z_th_upper, z_th_lower))\n",
    "\n",
    "cloud_array_inliers = cloud_array[ cloud_array[:, 2] < z_th_upper]\n",
    "cloud_array_inliers = cloud_array_inliers[ cloud_array_inliers[:, 2] > z_th_lower]\n",
    "\n",
    "pcl.save(pcl.PointCloud(cloud_array_inliers.astype(np.float32)), 'temp2.pcd')\n",
    "bound_mins = np.min(cloud_array_inliers, axis=0)\n",
    "bound_maxs = np.max(cloud_array_inliers, axis=0)\n",
    "size_x = bound_maxs[0] - bound_mins[0]\n",
    "size_y = bound_maxs[1] - bound_mins[1]\n",
    "np.max((size_x, size_y))"
   ]
  },
  {
   "cell_type": "code",
   "execution_count": 116,
   "metadata": {},
   "outputs": [
    {
     "name": "stdout",
     "output_type": "stream",
     "text": "sx:0.9983126521110535, sy:0.32175615429878235\n"
    }
   ],
   "source": []
  },
  {
   "cell_type": "code",
   "execution_count": 117,
   "metadata": {},
   "outputs": [
    {
     "data": {
      "text/plain": "0.783042320012125"
     },
     "execution_count": 117,
     "metadata": {},
     "output_type": "execute_result"
    }
   ],
   "source": [
    "2.46 / np.pi"
   ]
  },
  {
   "cell_type": "code",
   "execution_count": 34,
   "metadata": {},
   "outputs": [
    {
     "data": {
      "text/plain": "['__class__',\n '__delattr__',\n '__dir__',\n '__doc__',\n '__eq__',\n '__format__',\n '__ge__',\n '__getattribute__',\n '__gt__',\n '__hash__',\n '__init__',\n '__le__',\n '__lt__',\n '__ne__',\n '__new__',\n '__reduce__',\n '__reduce_ex__',\n '__repr__',\n '__setattr__',\n '__setstate__',\n '__sizeof__',\n '__str__',\n '__subclasshook__',\n 'process',\n 'set_Compute_Normals',\n 'set_Search_Method',\n 'set_polynomial_fit',\n 'set_polynomial_order',\n 'set_search_radius']"
     },
     "execution_count": 34,
     "metadata": {},
     "output_type": "execute_result"
    }
   ],
   "source": [
    "dir(fil)"
   ]
  },
  {
   "cell_type": "code",
   "execution_count": 129,
   "metadata": {},
   "outputs": [
    {
     "data": {
      "text/html": "<div>\n<style scoped>\n    .dataframe tbody tr th:only-of-type {\n        vertical-align: middle;\n    }\n\n    .dataframe tbody tr th {\n        vertical-align: top;\n    }\n\n    .dataframe thead th {\n        text-align: right;\n    }\n</style>\n<table border=\"1\" class=\"dataframe\">\n  <thead>\n    <tr style=\"text-align: right;\">\n      <th></th>\n      <th>#id</th>\n      <th>label</th>\n      <th>x</th>\n      <th>y</th>\n      <th>z</th>\n      <th>qx</th>\n      <th>qy</th>\n      <th>qz</th>\n      <th>qw</th>\n      <th>sx</th>\n      <th>sy</th>\n      <th>sz</th>\n      <th>T</th>\n      <th>T_ref0</th>\n    </tr>\n  </thead>\n  <tbody>\n    <tr>\n      <th>0</th>\n      <td>0</td>\n      <td>0</td>\n      <td>2.137294</td>\n      <td>0.601331</td>\n      <td>3.877034</td>\n      <td>0.584839</td>\n      <td>-0.324283</td>\n      <td>0.396349</td>\n      <td>0.629056</td>\n      <td>0.431192</td>\n      <td>0.479107</td>\n      <td>0.087841</td>\n      <td>[[0.47549606516709875, -0.8779580353347702, 0....</td>\n      <td>[[1.0, 0.0, 0.0, 0.0], [0.0, 1.0, 0.0, 0.0], [...</td>\n    </tr>\n    <tr>\n      <th>1</th>\n      <td>1</td>\n      <td>0</td>\n      <td>4.381115</td>\n      <td>0.915378</td>\n      <td>5.465585</td>\n      <td>0.601855</td>\n      <td>-0.291490</td>\n      <td>0.361005</td>\n      <td>0.649984</td>\n      <td>0.666446</td>\n      <td>0.372832</td>\n      <td>0.098058</td>\n      <td>[[0.569417798263272, -0.8201646452411815, 0.05...</td>\n      <td>[[0.2707559225102987, -0.09788232827841803, 0....</td>\n    </tr>\n  </tbody>\n</table>\n</div>",
      "text/plain": "   #id  label         x         y         z        qx        qy        qz  \\\n0    0      0  2.137294  0.601331  3.877034  0.584839 -0.324283  0.396349   \n1    1      0  4.381115  0.915378  5.465585  0.601855 -0.291490  0.361005   \n\n         qw        sx        sy        sz  \\\n0  0.629056  0.431192  0.479107  0.087841   \n1  0.649984  0.666446  0.372832  0.098058   \n\n                                                   T  \\\n0  [[0.47549606516709875, -0.8779580353347702, 0....   \n1  [[0.569417798263272, -0.8201646452411815, 0.05...   \n\n                                              T_ref0  \n0  [[1.0, 0.0, 0.0, 0.0], [0.0, 1.0, 0.0, 0.0], [...  \n1  [[0.2707559225102987, -0.09788232827841803, 0....  "
     },
     "execution_count": 129,
     "metadata": {},
     "output_type": "execute_result"
    }
   ],
   "source": [
    "objects"
   ]
  },
  {
   "cell_type": "code",
   "execution_count": 122,
   "metadata": {},
   "outputs": [
    {
     "data": {
      "text/plain": "array([ 77.67544699,   6.5171438 , -16.95360563,   1.        ])"
     },
     "execution_count": 122,
     "metadata": {},
     "output_type": "execute_result"
    }
   ],
   "source": [
    "tf.transformations.inverse_matrix(objects['T_ref0'].iloc[1])[:, 3]"
   ]
  },
  {
   "cell_type": "code",
   "execution_count": 131,
   "metadata": {},
   "outputs": [
    {
     "data": {
      "text/plain": "array([-1.95713391e+01,  1.77010514e-02,  3.75587035e-01])"
     },
     "execution_count": 131,
     "metadata": {},
     "output_type": "execute_result"
    }
   ],
   "source": [
    "tf.transformations.translation_from_matrix(objects['T_ref0'].iloc[1])"
   ]
  },
  {
   "cell_type": "markdown",
   "execution_count": null,
   "metadata": {},
   "outputs": [],
   "source": [
    "Cylinder extraction params\n",
    "http://docs.pointclouds.org/trunk/group__sample__consensus.html"
   ]
  },
  {
   "cell_type": "code",
   "execution_count": null,
   "metadata": {},
   "outputs": [],
   "source": []
  }
 ]
}