{
 "nbformat": 4,
 "nbformat_minor": 2,
 "metadata": {
  "language_info": {
   "name": "python",
   "codemirror_mode": {
    "name": "ipython",
    "version": 3
   },
   "version": "3.5.6"
  },
  "orig_nbformat": 2,
  "file_extension": ".py",
  "mimetype": "text/x-python",
  "name": "python",
  "npconvert_exporter": "python",
  "pygments_lexer": "ipython3",
  "version": 3
 },
 "cells": [
  {
   "cell_type": "code",
   "execution_count": 1,
   "metadata": {},
   "outputs": [],
   "source": [
    "%matplotlib inline\n",
    "import numpy as np\n",
    "import pandas as pd\n",
    "import transformations as tf\n",
    "import matplotlib.pyplot as plt\n",
    "import pcl\n",
    "import os\n",
    "import os.path as osp"
   ]
  },
  {
   "cell_type": "code",
   "execution_count": 58,
   "metadata": {},
   "outputs": [],
   "source": [
    "BASE_PATH = './data/tree2/test'\n",
    "# keyframes = pd.read_csv(osp.join(BASE_PATH, 'keyframes_with_id.txt'), sep=' ')\n",
    "objects = pd.read_csv(osp.join(BASE_PATH,'objects.txt'), sep=' ')\n",
    "# Loaded as XYZ pointclouds\n",
    "map_cloud = pcl.load(osp.join(BASE_PATH, 'map.pcd'))\n",
    "# object clouds\n",
    "obj_clouds = {}\n",
    "for i in objects['#id']:\n",
    "    obj_clouds[i] = pcl.load(osp.join(BASE_PATH, 'object_pointclouds', '{}.pcd'.format(i)))"
   ]
  },
  {
   "cell_type": "code",
   "execution_count": 55,
   "metadata": {},
   "outputs": [],
   "source": [
    "def add_tf_mat_to_df(df, use_shift_centroid=False):\n",
    "    try:\n",
    "        df.drop(columns=['T'])\n",
    "    except KeyError:\n",
    "        pass\n",
    "    \n",
    "    def _get_tf_mat_from_row(drow):\n",
    "        q = np.array(drow[['qw', 'qx', 'qy', 'qz']])\n",
    "        t = None\n",
    "        if use_shift_centroid:\n",
    "            t = np.array(drow[['x_cloud', 'y_cloud', 'z_cloud']]).reshape(3)  \n",
    "        else:\n",
    "            t = np.array(drow[['x', 'y', 'z']]).reshape(3)\n",
    "        T = tf.quaternion_matrix(q)\n",
    "        T[:3, 3] = t\n",
    "        return T\n",
    "\n",
    "    df['T'] = df.apply(_get_tf_mat_from_row, axis=1)\n",
    "\n",
    "def transform_cloud(T, points):\n",
    "    points_homo = np.ones((points.shape[0], 4))\n",
    "    points_homo[:,:3] = points\n",
    "    points_homo = np.transpose(points_homo)\n",
    "    outs = np.matmul(T, points_homo)\n",
    "    return np.transpose(outs)[:, :3]\n",
    "\n",
    "# Transform all points to local\n",
    "def get_local_points(Two, points):\n",
    "    Tow = np.linalg.inv(Two)\n",
    "    points_homo = np.ones((points.shape[0], 4))\n",
    "    points_homo[:,:3] = points\n",
    "    points_homo = np.transpose(points_homo)\n",
    "    outs = np.matmul(Tow, points_homo)\n",
    "    return np.transpose(outs)[:, :3]\n",
    "\n",
    "def add_shift_centroid_data(objects, obj_clouds):\n",
    "    results = []\n",
    "    results_cols = ['#id', 'x_cloud', 'y_cloud', 'z_cloud']\n",
    "    for i, cloud in obj_clouds.items():\n",
    "        cloud_arr = np.asarray(cloud)\n",
    "        centroid = np.mean(cloud_arr, axis=0)\n",
    "        # TODO -- find boundary using PCA\n",
    "        results.append((i, *centroid))\n",
    "\n",
    "    df = pd.DataFrame(results, columns=results_cols)\n",
    "    return pd.merge(objects, df, on='#id')"
   ]
  },
  {
   "cell_type": "code",
   "execution_count": 59,
   "metadata": {},
   "outputs": [],
   "source": [
    "USE_SHIFT_CENTROID=False\n",
    "objects = add_shift_centroid_data(objects, obj_clouds)\n",
    "add_tf_mat_to_df(objects, use_shift_centroid=USE_SHIFT_CENTROID)"
   ]
  },
  {
   "cell_type": "code",
   "execution_count": 62,
   "metadata": {},
   "outputs": [],
   "source": [
    "USE_SHIFT_CENTROID=False"
   ]
  },
  {
   "cell_type": "code",
   "execution_count": 44,
   "metadata": {},
   "outputs": [
    {
     "data": {
      "text/html": "<div>\n<style scoped>\n    .dataframe tbody tr th:only-of-type {\n        vertical-align: middle;\n    }\n\n    .dataframe tbody tr th {\n        vertical-align: top;\n    }\n\n    .dataframe thead th {\n        text-align: right;\n    }\n</style>\n<table border=\"1\" class=\"dataframe\">\n  <thead>\n    <tr style=\"text-align: right;\">\n      <th></th>\n      <th>#id</th>\n      <th>label</th>\n      <th>x</th>\n      <th>y</th>\n      <th>z</th>\n      <th>qx</th>\n      <th>qy</th>\n      <th>qz</th>\n      <th>qw</th>\n      <th>sx</th>\n      <th>sy</th>\n      <th>sz</th>\n      <th>x_cloud</th>\n      <th>y_cloud</th>\n      <th>z_cloud</th>\n      <th>T</th>\n    </tr>\n  </thead>\n  <tbody>\n    <tr>\n      <th>0</th>\n      <td>0</td>\n      <td>0</td>\n      <td>2.137294</td>\n      <td>0.601331</td>\n      <td>3.877034</td>\n      <td>0.584839</td>\n      <td>-0.324283</td>\n      <td>0.396349</td>\n      <td>0.629056</td>\n      <td>0.431192</td>\n      <td>0.479107</td>\n      <td>0.087841</td>\n      <td>1.944592</td>\n      <td>0.449677</td>\n      <td>3.265885</td>\n      <td>[[0.47549606516709875, -0.8779580353347702, 0....</td>\n    </tr>\n    <tr>\n      <th>1</th>\n      <td>1</td>\n      <td>0</td>\n      <td>4.381115</td>\n      <td>0.915378</td>\n      <td>5.465585</td>\n      <td>0.601855</td>\n      <td>-0.291490</td>\n      <td>0.361005</td>\n      <td>0.649984</td>\n      <td>0.666446</td>\n      <td>0.372832</td>\n      <td>0.098058</td>\n      <td>4.190695</td>\n      <td>0.870445</td>\n      <td>5.126884</td>\n      <td>[[0.569417798263272, -0.8201646452411815, 0.05...</td>\n    </tr>\n  </tbody>\n</table>\n</div>",
      "text/plain": "   #id  label         x         y         z        qx        qy        qz  \\\n0    0      0  2.137294  0.601331  3.877034  0.584839 -0.324283  0.396349   \n1    1      0  4.381115  0.915378  5.465585  0.601855 -0.291490  0.361005   \n\n         qw        sx        sy        sz   x_cloud   y_cloud   z_cloud  \\\n0  0.629056  0.431192  0.479107  0.087841  1.944592  0.449677  3.265885   \n1  0.649984  0.666446  0.372832  0.098058  4.190695  0.870445  5.126884   \n\n                                                   T  \n0  [[0.47549606516709875, -0.8779580353347702, 0....  \n1  [[0.569417798263272, -0.8201646452411815, 0.05...  "
     },
     "execution_count": 44,
     "metadata": {},
     "output_type": "execute_result"
    }
   ],
   "source": []
  },
  {
   "cell_type": "code",
   "execution_count": 6,
   "metadata": {},
   "outputs": [],
   "source": [
    "def get_value_by_id(df, id, col_name):\n",
    "    return objects[objects['#id'] == id][col_name][0]\n",
    "\n",
    "def get_row_by_id(df, id):\n",
    "    return objects[objects['#id'] == id].iloc[0]"
   ]
  },
  {
   "cell_type": "code",
   "execution_count": 7,
   "metadata": {},
   "outputs": [],
   "source": [
    "# Transform mappoints to first object (id=0) frame ref\n",
    "Tw0 = objects[objects['#id'] == 0]['T'][0]\n",
    "map_cloud_0 = pcl.PointCloud(get_local_points(Tw0, np.asarray(map_cloud)).astype(np.float32))"
   ]
  },
  {
   "cell_type": "code",
   "execution_count": 8,
   "metadata": {},
   "outputs": [],
   "source": [
    "pcl.save(map_cloud_0, 'world.pcd')"
   ]
  },
  {
   "cell_type": "code",
   "execution_count": 9,
   "metadata": {},
   "outputs": [],
   "source": [
    "def _get_cloud_in_box(cloud, size_xy, height_min, height_max, origin):\n",
    "    # TODO -- fix this using numpy all\n",
    "    out = cloud\n",
    "\n",
    "    # Filter X\n",
    "    out = out[ out[:, 0] >= origin[0] - size_xy[0]]\n",
    "    out = out[ out[:, 0] <= origin[0] + size_xy[0]]\n",
    "\n",
    "    # Filter Y\n",
    "    out = out[ out[:, 1] >= origin[1] - size_xy[1]]\n",
    "    out = out[ out[:, 1] <= origin[1] + size_xy[1]]\n",
    "\n",
    "    # Filter Height\n",
    "    out = out[ out[:, 2] >= origin[2] - height_min ]\n",
    "    out = out[ out[:, 2] <= origin[2] + height_max ]\n",
    "\n",
    "    return out\n",
    "\n",
    "# # TODO -- fix this!\n",
    "# def get_tree_cloud_in_objects(map_cloud, objects, height=5.0, height_min=0.5, size_xy=None):\n",
    "#     outcloud = {}\n",
    "#     map_cloud_raw = np.asarray(map_cloud)\n",
    "#     if size_xy is not None:\n",
    "#         assert(len(size_xy) == 2)\n",
    "    \n",
    "#     for i in objects['#id']:\n",
    "#         s_size = [0,0]\n",
    "#         obj = get_row_by_id(objects, i)\n",
    "#         T_ref0 = obj['T_ref0']\n",
    "#         t = T_ref0[:3, 3] # centroid\n",
    "#         print(t)\n",
    "#         if size_xy is None:\n",
    "#             s_size[0] = obj['sx']\n",
    "#             s_size[1] = obj['sy']\n",
    "#         else:\n",
    "#             s_size = size_xy\n",
    "        \n",
    "#         tmp_cloud = _get_cloud_in_box(map_cloud_raw, size_xy, height_min, height, t)\n",
    "\n",
    "#         outcloud[i] = pcl.PointCloud(tmp_cloud.astype(np.float32))\n",
    "\n",
    "#     return outcloud"
   ]
  },
  {
   "cell_type": "code",
   "execution_count": 14,
   "metadata": {},
   "outputs": [],
   "source": [
    "# get from world\n",
    "def naive_get_tree_cloud_in_objects(map_cloud, objects, height=5.0, height_min=0.5, size_xy=None):\n",
    "    outcloud = {}\n",
    "    map_cloud_raw = np.asarray(map_cloud)\n",
    "    if size_xy is not None:\n",
    "        assert(len(size_xy) == 2)\n",
    "    \n",
    "    for i in objects['#id']:\n",
    "        s_size = [0,0]\n",
    "        obj = get_row_by_id(objects, i)\n",
    "        T_ref0 = obj['T']\n",
    "        t = (0,0,0) # centroid\n",
    "        if size_xy is None:\n",
    "            s_size[0] = obj['sx']\n",
    "            s_size[1] = obj['sy']\n",
    "        else:\n",
    "            s_size = size_xy\n",
    "        map_cloud_local = get_local_points(T_ref0, map_cloud_raw)\n",
    "        tmp_cloud = _get_cloud_in_box(map_cloud_local, size_xy, height_min, height, t)\n",
    "\n",
    "        outcloud[i] = pcl.PointCloud(tmp_cloud.astype(np.float32))\n",
    "\n",
    "    return outcloud"
   ]
  },
  {
   "cell_type": "code",
   "execution_count": 15,
   "metadata": {},
   "outputs": [],
   "source": [
    "# For visualization purpose\n",
    "def reconstruct_world_cloud(tree_clouds, objects, ref_id=None):\n",
    "    out = []\n",
    "    for i, cloud in tree_clouds.items():\n",
    "        obj = get_row_by_id(objects, i)\n",
    "        icloud = transform_cloud(obj['T'], np.asarray(cloud))\n",
    "        out.append(icloud)\n",
    "    \n",
    "    outcloud = np.concatenate(out, axis=0)\n",
    "\n",
    "    if ref_id is None:\n",
    "        return pcl.PointCloud(outcloud.astype(np.float32))\n",
    "\n",
    "    ref_obj = get_row_by_id(objects, ref_id)\n",
    "    refcloud = get_local_points(ref_obj['T'], outcloud)\n",
    "\n",
    "    return pcl.PointCloud(refcloud.astype(np.float32))\n",
    "\n",
    "# Same as above but split for each object\n",
    "def reconstruct_each_object_clouds_world(tree_clouds, objects, ref_id=None):\n",
    "    out = {}\n",
    "    ref_obj=None\n",
    "    if ref_id is not None:\n",
    "        ref_obj = get_row_by_id(objects, ref_id)\n",
    "    \n",
    "    for i, cloud in tree_clouds.items():\n",
    "        obj = get_row_by_id(objects, i)\n",
    "        icloud = transform_cloud(obj['T'], np.asarray(cloud))\n",
    "        if ref_id is None:\n",
    "            out[i] = pcl.PointCloud(icloud.astype(np.float32))\n",
    "        else:\n",
    "            refcloud = get_local_points(ref_obj['T'], icloud)\n",
    "            out[i] = pcl.PointCloud(refcloud.astype(np.float32))\n",
    "    return out"
   ]
  },
  {
   "cell_type": "code",
   "execution_count": 75,
   "metadata": {},
   "outputs": [
    {
     "data": {
      "text/plain": "<matplotlib.legend.Legend at 0x7f5f4ac32358>"
     },
     "execution_count": 75,
     "metadata": {},
     "output_type": "execute_result"
    },
    {
     "data": {
      "image/png": "[encoded data removed]",
      "image/svg+xml": "<?xml version=\"1.0\" encoding=\"utf-8\" standalone=\"no\"?>\n<!DOCTYPE svg PUBLIC \"-//W3C//DTD SVG 1.1//EN\"\n  \"http://www.w3.org/Graphics/SVG/1.1/DTD/svg11.dtd\">\n<!-- Created with matplotlib (https://matplotlib.org/) -->\n<svg height=\"494.754375pt\" version=\"1.1\" viewBox=\"0 0 668.28125 494.754375\" width=\"668.28125pt\" xmlns=\"http://www.w3.org/2000/svg\" xmlns:xlink=\"http://www.w3.org/1999/xlink\">\n <defs>\n  <style type=\"text/css\">\n*{stroke-linecap:butt;stroke-linejoin:round;}\n  </style>\n </defs>\n <g id=\"figure_1\">\n  <g id=\"patch_1\">\n   <path d=\"M 0 494.754375 \nL 668.28125 494.754375 \nL 668.28125 0 \nL 0 0 \nz\n\" style=\"fill:none;\"/>\n  </g>\n  <g id=\"axes_1\">\n   <g id=\"patch_2\">\n    <path d=\"M 43.78125 457.198125 \nL 657.58125 457.198125 \nL 657.58125 22.318125 \nL 43.78125 22.318125 \nz\n\" style=\"fill:#ffffff;\"/>\n   </g>\n   <g id=\"PathCollection_1\">\n    <defs>\n     <path d=\"M 0 3 \nC 0.795609 3 1.55874 2.683901 2.12132 2.12132 \nC 2.683901 1.55874 3 0.795609 3 0 \nC 3 -0.795609 2.683901 -1.55874 2.12132 -2.12132 \nC 1.55874 -2.683901 0.795609 -3 0 -3 \nC -0.795609 -3 -1.55874 -2.683901 -2.12132 -2.12132 \nC -2.683901 -1.55874 -3 -0.795609 -3 0 \nC -3 0.795609 -2.683901 1.55874 -2.12132 2.12132 \nC -1.55874 2.683901 -0.795609 3 0 3 \nz\n\" id=\"m4659e3bd50\" style=\"stroke:#0000ff;\"/>\n    </defs>\n    <g clip-path=\"url(#p6f656e9468)\">\n     <use style=\"fill:#0000ff;stroke:#0000ff;\" x=\"72.303055\" xlink:href=\"#m4659e3bd50\" y=\"434.474078\"/>\n    </g>\n   </g>\n   <g id=\"PathCollection_2\">\n    <g clip-path=\"url(#p6f656e9468)\">\n     <use style=\"fill:#0000ff;stroke:#0000ff;\" x=\"629.674564\" xlink:href=\"#m4659e3bd50\" y=\"42.130272\"/>\n    </g>\n   </g>\n   <g id=\"PathCollection_3\">\n    <defs>\n     <path d=\"M -3 3 \nL 3 -3 \nM -3 -3 \nL 3 3 \n\" id=\"mc519d2e71c\" style=\"stroke:#ff0000;stroke-width:1.5;\"/>\n    </defs>\n    <g clip-path=\"url(#p6f656e9468)\">\n     <use style=\"fill:#ff0000;stroke:#ff0000;stroke-width:1.5;\" x=\"344.212554\" xlink:href=\"#mc519d2e71c\" y=\"176.735206\"/>\n    </g>\n   </g>\n   <g id=\"matplotlib.axis_1\">\n    <g id=\"xtick_1\">\n     <g id=\"line2d_1\">\n      <path clip-path=\"url(#p6f656e9468)\" d=\"M 72.303055 457.198125 \nL 72.303055 22.318125 \n\" style=\"fill:none;stroke:#b0b0b0;stroke-linecap:square;stroke-width:0.8;\"/>\n     </g>\n     <g id=\"line2d_2\">\n      <defs>\n       <path d=\"M 0 0 \nL 0 3.5 \n\" id=\"m2bab844fa9\" style=\"stroke:#000000;stroke-width:0.8;\"/>\n      </defs>\n      <g>\n       <use style=\"stroke:#000000;stroke-width:0.8;\" x=\"72.303055\" xlink:href=\"#m2bab844fa9\" y=\"457.198125\"/>\n      </g>\n     </g>\n     <g id=\"text_1\">\n      <!-- 0 -->\n      <defs>\n       <path d=\"M 31.78125 66.40625 \nQ 24.171875 66.40625 20.328125 58.90625 \nQ 16.5 51.421875 16.5 36.375 \nQ 16.5 21.390625 20.328125 13.890625 \nQ 24.171875 6.390625 31.78125 6.390625 \nQ 39.453125 6.390625 43.28125 13.890625 \nQ 47.125 21.390625 47.125 36.375 \nQ 47.125 51.421875 43.28125 58.90625 \nQ 39.453125 66.40625 31.78125 66.40625 \nz\nM 31.78125 74.21875 \nQ 44.046875 74.21875 50.515625 64.515625 \nQ 56.984375 54.828125 56.984375 36.375 \nQ 56.984375 17.96875 50.515625 8.265625 \nQ 44.046875 -1.421875 31.78125 -1.421875 \nQ 19.53125 -1.421875 13.0625 8.265625 \nQ 6.59375 17.96875 6.59375 36.375 \nQ 6.59375 54.828125 13.0625 64.515625 \nQ 19.53125 74.21875 31.78125 74.21875 \nz\n\" id=\"DejaVuSans-48\"/>\n      </defs>\n      <g transform=\"translate(69.121805 471.796562)scale(0.1 -0.1)\">\n       <use xlink:href=\"#DejaVuSans-48\"/>\n      </g>\n     </g>\n    </g>\n    <g id=\"xtick_2\">\n     <g id=\"line2d_3\">\n      <path clip-path=\"url(#p6f656e9468)\" d=\"M 199.524438 457.198125 \nL 199.524438 22.318125 \n\" style=\"fill:none;stroke:#b0b0b0;stroke-linecap:square;stroke-width:0.8;\"/>\n     </g>\n     <g id=\"line2d_4\">\n      <g>\n       <use style=\"stroke:#000000;stroke-width:0.8;\" x=\"199.524438\" xlink:href=\"#m2bab844fa9\" y=\"457.198125\"/>\n      </g>\n     </g>\n     <g id=\"text_2\">\n      <!-- 1 -->\n      <defs>\n       <path d=\"M 12.40625 8.296875 \nL 28.515625 8.296875 \nL 28.515625 63.921875 \nL 10.984375 60.40625 \nL 10.984375 69.390625 \nL 28.421875 72.90625 \nL 38.28125 72.90625 \nL 38.28125 8.296875 \nL 54.390625 8.296875 \nL 54.390625 0 \nL 12.40625 0 \nz\n\" id=\"DejaVuSans-49\"/>\n      </defs>\n      <g transform=\"translate(196.343188 471.796562)scale(0.1 -0.1)\">\n       <use xlink:href=\"#DejaVuSans-49\"/>\n      </g>\n     </g>\n    </g>\n    <g id=\"xtick_3\">\n     <g id=\"line2d_5\">\n      <path clip-path=\"url(#p6f656e9468)\" d=\"M 326.745821 457.198125 \nL 326.745821 22.318125 \n\" style=\"fill:none;stroke:#b0b0b0;stroke-linecap:square;stroke-width:0.8;\"/>\n     </g>\n     <g id=\"line2d_6\">\n      <g>\n       <use style=\"stroke:#000000;stroke-width:0.8;\" x=\"326.745821\" xlink:href=\"#m2bab844fa9\" y=\"457.198125\"/>\n      </g>\n     </g>\n     <g id=\"text_3\">\n      <!-- 2 -->\n      <defs>\n       <path d=\"M 19.1875 8.296875 \nL 53.609375 8.296875 \nL 53.609375 0 \nL 7.328125 0 \nL 7.328125 8.296875 \nQ 12.9375 14.109375 22.625 23.890625 \nQ 32.328125 33.6875 34.8125 36.53125 \nQ 39.546875 41.84375 41.421875 45.53125 \nQ 43.3125 49.21875 43.3125 52.78125 \nQ 43.3125 58.59375 39.234375 62.25 \nQ 35.15625 65.921875 28.609375 65.921875 \nQ 23.96875 65.921875 18.8125 64.3125 \nQ 13.671875 62.703125 7.8125 59.421875 \nL 7.8125 69.390625 \nQ 13.765625 71.78125 18.9375 73 \nQ 24.125 74.21875 28.421875 74.21875 \nQ 39.75 74.21875 46.484375 68.546875 \nQ 53.21875 62.890625 53.21875 53.421875 \nQ 53.21875 48.921875 51.53125 44.890625 \nQ 49.859375 40.875 45.40625 35.40625 \nQ 44.1875 33.984375 37.640625 27.21875 \nQ 31.109375 20.453125 19.1875 8.296875 \nz\n\" id=\"DejaVuSans-50\"/>\n      </defs>\n      <g transform=\"translate(323.564571 471.796562)scale(0.1 -0.1)\">\n       <use xlink:href=\"#DejaVuSans-50\"/>\n      </g>\n     </g>\n    </g>\n    <g id=\"xtick_4\">\n     <g id=\"line2d_7\">\n      <path clip-path=\"url(#p6f656e9468)\" d=\"M 453.967204 457.198125 \nL 453.967204 22.318125 \n\" style=\"fill:none;stroke:#b0b0b0;stroke-linecap:square;stroke-width:0.8;\"/>\n     </g>\n     <g id=\"line2d_8\">\n      <g>\n       <use style=\"stroke:#000000;stroke-width:0.8;\" x=\"453.967204\" xlink:href=\"#m2bab844fa9\" y=\"457.198125\"/>\n      </g>\n     </g>\n     <g id=\"text_4\">\n      <!-- 3 -->\n      <defs>\n       <path d=\"M 40.578125 39.3125 \nQ 47.65625 37.796875 51.625 33 \nQ 55.609375 28.21875 55.609375 21.1875 \nQ 55.609375 10.40625 48.1875 4.484375 \nQ 40.765625 -1.421875 27.09375 -1.421875 \nQ 22.515625 -1.421875 17.65625 -0.515625 \nQ 12.796875 0.390625 7.625 2.203125 \nL 7.625 11.71875 \nQ 11.71875 9.328125 16.59375 8.109375 \nQ 21.484375 6.890625 26.8125 6.890625 \nQ 36.078125 6.890625 40.9375 10.546875 \nQ 45.796875 14.203125 45.796875 21.1875 \nQ 45.796875 27.640625 41.28125 31.265625 \nQ 36.765625 34.90625 28.71875 34.90625 \nL 20.21875 34.90625 \nL 20.21875 43.015625 \nL 29.109375 43.015625 \nQ 36.375 43.015625 40.234375 45.921875 \nQ 44.09375 48.828125 44.09375 54.296875 \nQ 44.09375 59.90625 40.109375 62.90625 \nQ 36.140625 65.921875 28.71875 65.921875 \nQ 24.65625 65.921875 20.015625 65.03125 \nQ 15.375 64.15625 9.8125 62.3125 \nL 9.8125 71.09375 \nQ 15.4375 72.65625 20.34375 73.4375 \nQ 25.25 74.21875 29.59375 74.21875 \nQ 40.828125 74.21875 47.359375 69.109375 \nQ 53.90625 64.015625 53.90625 55.328125 \nQ 53.90625 49.265625 50.4375 45.09375 \nQ 46.96875 40.921875 40.578125 39.3125 \nz\n\" id=\"DejaVuSans-51\"/>\n      </defs>\n      <g transform=\"translate(450.785954 471.796562)scale(0.1 -0.1)\">\n       <use xlink:href=\"#DejaVuSans-51\"/>\n      </g>\n     </g>\n    </g>\n    <g id=\"xtick_5\">\n     <g id=\"line2d_9\">\n      <path clip-path=\"url(#p6f656e9468)\" d=\"M 581.188587 457.198125 \nL 581.188587 22.318125 \n\" style=\"fill:none;stroke:#b0b0b0;stroke-linecap:square;stroke-width:0.8;\"/>\n     </g>\n     <g id=\"line2d_10\">\n      <g>\n       <use style=\"stroke:#000000;stroke-width:0.8;\" x=\"581.188587\" xlink:href=\"#m2bab844fa9\" y=\"457.198125\"/>\n      </g>\n     </g>\n     <g id=\"text_5\">\n      <!-- 4 -->\n      <defs>\n       <path d=\"M 37.796875 64.3125 \nL 12.890625 25.390625 \nL 37.796875 25.390625 \nz\nM 35.203125 72.90625 \nL 47.609375 72.90625 \nL 47.609375 25.390625 \nL 58.015625 25.390625 \nL 58.015625 17.1875 \nL 47.609375 17.1875 \nL 47.609375 0 \nL 37.796875 0 \nL 37.796875 17.1875 \nL 4.890625 17.1875 \nL 4.890625 26.703125 \nz\n\" id=\"DejaVuSans-52\"/>\n      </defs>\n      <g transform=\"translate(578.007337 471.796562)scale(0.1 -0.1)\">\n       <use xlink:href=\"#DejaVuSans-52\"/>\n      </g>\n     </g>\n    </g>\n    <g id=\"text_6\">\n     <!-- x (m) -->\n     <defs>\n      <path d=\"M 54.890625 54.6875 \nL 35.109375 28.078125 \nL 55.90625 0 \nL 45.3125 0 \nL 29.390625 21.484375 \nL 13.484375 0 \nL 2.875 0 \nL 24.125 28.609375 \nL 4.6875 54.6875 \nL 15.28125 54.6875 \nL 29.78125 35.203125 \nL 44.28125 54.6875 \nz\n\" id=\"DejaVuSans-120\"/>\n      <path id=\"DejaVuSans-32\"/>\n      <path d=\"M 31 75.875 \nQ 24.46875 64.65625 21.28125 53.65625 \nQ 18.109375 42.671875 18.109375 31.390625 \nQ 18.109375 20.125 21.3125 9.0625 \nQ 24.515625 -2 31 -13.1875 \nL 23.1875 -13.1875 \nQ 15.875 -1.703125 12.234375 9.375 \nQ 8.59375 20.453125 8.59375 31.390625 \nQ 8.59375 42.28125 12.203125 53.3125 \nQ 15.828125 64.359375 23.1875 75.875 \nz\n\" id=\"DejaVuSans-40\"/>\n      <path d=\"M 52 44.1875 \nQ 55.375 50.25 60.0625 53.125 \nQ 64.75 56 71.09375 56 \nQ 79.640625 56 84.28125 50.015625 \nQ 88.921875 44.046875 88.921875 33.015625 \nL 88.921875 0 \nL 79.890625 0 \nL 79.890625 32.71875 \nQ 79.890625 40.578125 77.09375 44.375 \nQ 74.3125 48.1875 68.609375 48.1875 \nQ 61.625 48.1875 57.5625 43.546875 \nQ 53.515625 38.921875 53.515625 30.90625 \nL 53.515625 0 \nL 44.484375 0 \nL 44.484375 32.71875 \nQ 44.484375 40.625 41.703125 44.40625 \nQ 38.921875 48.1875 33.109375 48.1875 \nQ 26.21875 48.1875 22.15625 43.53125 \nQ 18.109375 38.875 18.109375 30.90625 \nL 18.109375 0 \nL 9.078125 0 \nL 9.078125 54.6875 \nL 18.109375 54.6875 \nL 18.109375 46.1875 \nQ 21.1875 51.21875 25.484375 53.609375 \nQ 29.78125 56 35.6875 56 \nQ 41.65625 56 45.828125 52.96875 \nQ 50 49.953125 52 44.1875 \nz\n\" id=\"DejaVuSans-109\"/>\n      <path d=\"M 8.015625 75.875 \nL 15.828125 75.875 \nQ 23.140625 64.359375 26.78125 53.3125 \nQ 30.421875 42.28125 30.421875 31.390625 \nQ 30.421875 20.453125 26.78125 9.375 \nQ 23.140625 -1.703125 15.828125 -13.1875 \nL 8.015625 -13.1875 \nQ 14.5 -2 17.703125 9.0625 \nQ 20.90625 20.125 20.90625 31.390625 \nQ 20.90625 42.671875 17.703125 53.65625 \nQ 14.5 64.65625 8.015625 75.875 \nz\n\" id=\"DejaVuSans-41\"/>\n     </defs>\n     <g transform=\"translate(337.360938 485.474687)scale(0.1 -0.1)\">\n      <use xlink:href=\"#DejaVuSans-120\"/>\n      <use x=\"59.179688\" xlink:href=\"#DejaVuSans-32\"/>\n      <use x=\"90.966797\" xlink:href=\"#DejaVuSans-40\"/>\n      <use x=\"129.980469\" xlink:href=\"#DejaVuSans-109\"/>\n      <use x=\"227.392578\" xlink:href=\"#DejaVuSans-41\"/>\n     </g>\n    </g>\n   </g>\n   <g id=\"matplotlib.axis_2\">\n    <g id=\"ytick_1\">\n     <g id=\"line2d_11\">\n      <path clip-path=\"url(#p6f656e9468)\" d=\"M 43.78125 434.474078 \nL 657.58125 434.474078 \n\" style=\"fill:none;stroke:#b0b0b0;stroke-linecap:square;stroke-width:0.8;\"/>\n     </g>\n     <g id=\"line2d_12\">\n      <defs>\n       <path d=\"M 0 0 \nL -3.5 0 \n\" id=\"mae1f2d9be0\" style=\"stroke:#000000;stroke-width:0.8;\"/>\n      </defs>\n      <g>\n       <use style=\"stroke:#000000;stroke-width:0.8;\" x=\"43.78125\" xlink:href=\"#mae1f2d9be0\" y=\"434.474078\"/>\n      </g>\n     </g>\n     <g id=\"text_7\">\n      <!-- 0.0 -->\n      <defs>\n       <path d=\"M 10.6875 12.40625 \nL 21 12.40625 \nL 21 0 \nL 10.6875 0 \nz\n\" id=\"DejaVuSans-46\"/>\n      </defs>\n      <g transform=\"translate(20.878125 438.273297)scale(0.1 -0.1)\">\n       <use xlink:href=\"#DejaVuSans-48\"/>\n       <use x=\"63.623047\" xlink:href=\"#DejaVuSans-46\"/>\n       <use x=\"95.410156\" xlink:href=\"#DejaVuSans-48\"/>\n      </g>\n     </g>\n    </g>\n    <g id=\"ytick_2\">\n     <g id=\"line2d_13\">\n      <path clip-path=\"url(#p6f656e9468)\" d=\"M 43.78125 348.751282 \nL 657.58125 348.751282 \n\" style=\"fill:none;stroke:#b0b0b0;stroke-linecap:square;stroke-width:0.8;\"/>\n     </g>\n     <g id=\"line2d_14\">\n      <g>\n       <use style=\"stroke:#000000;stroke-width:0.8;\" x=\"43.78125\" xlink:href=\"#mae1f2d9be0\" y=\"348.751282\"/>\n      </g>\n     </g>\n     <g id=\"text_8\">\n      <!-- 0.2 -->\n      <g transform=\"translate(20.878125 352.550501)scale(0.1 -0.1)\">\n       <use xlink:href=\"#DejaVuSans-48\"/>\n       <use x=\"63.623047\" xlink:href=\"#DejaVuSans-46\"/>\n       <use x=\"95.410156\" xlink:href=\"#DejaVuSans-50\"/>\n      </g>\n     </g>\n    </g>\n    <g id=\"ytick_3\">\n     <g id=\"line2d_15\">\n      <path clip-path=\"url(#p6f656e9468)\" d=\"M 43.78125 263.028487 \nL 657.58125 263.028487 \n\" style=\"fill:none;stroke:#b0b0b0;stroke-linecap:square;stroke-width:0.8;\"/>\n     </g>\n     <g id=\"line2d_16\">\n      <g>\n       <use style=\"stroke:#000000;stroke-width:0.8;\" x=\"43.78125\" xlink:href=\"#mae1f2d9be0\" y=\"263.028487\"/>\n      </g>\n     </g>\n     <g id=\"text_9\">\n      <!-- 0.4 -->\n      <g transform=\"translate(20.878125 266.827705)scale(0.1 -0.1)\">\n       <use xlink:href=\"#DejaVuSans-48\"/>\n       <use x=\"63.623047\" xlink:href=\"#DejaVuSans-46\"/>\n       <use x=\"95.410156\" xlink:href=\"#DejaVuSans-52\"/>\n      </g>\n     </g>\n    </g>\n    <g id=\"ytick_4\">\n     <g id=\"line2d_17\">\n      <path clip-path=\"url(#p6f656e9468)\" d=\"M 43.78125 177.305691 \nL 657.58125 177.305691 \n\" style=\"fill:none;stroke:#b0b0b0;stroke-linecap:square;stroke-width:0.8;\"/>\n     </g>\n     <g id=\"line2d_18\">\n      <g>\n       <use style=\"stroke:#000000;stroke-width:0.8;\" x=\"43.78125\" xlink:href=\"#mae1f2d9be0\" y=\"177.305691\"/>\n      </g>\n     </g>\n     <g id=\"text_10\">\n      <!-- 0.6 -->\n      <defs>\n       <path d=\"M 33.015625 40.375 \nQ 26.375 40.375 22.484375 35.828125 \nQ 18.609375 31.296875 18.609375 23.390625 \nQ 18.609375 15.53125 22.484375 10.953125 \nQ 26.375 6.390625 33.015625 6.390625 \nQ 39.65625 6.390625 43.53125 10.953125 \nQ 47.40625 15.53125 47.40625 23.390625 \nQ 47.40625 31.296875 43.53125 35.828125 \nQ 39.65625 40.375 33.015625 40.375 \nz\nM 52.59375 71.296875 \nL 52.59375 62.3125 \nQ 48.875 64.0625 45.09375 64.984375 \nQ 41.3125 65.921875 37.59375 65.921875 \nQ 27.828125 65.921875 22.671875 59.328125 \nQ 17.53125 52.734375 16.796875 39.40625 \nQ 19.671875 43.65625 24.015625 45.921875 \nQ 28.375 48.1875 33.59375 48.1875 \nQ 44.578125 48.1875 50.953125 41.515625 \nQ 57.328125 34.859375 57.328125 23.390625 \nQ 57.328125 12.15625 50.6875 5.359375 \nQ 44.046875 -1.421875 33.015625 -1.421875 \nQ 20.359375 -1.421875 13.671875 8.265625 \nQ 6.984375 17.96875 6.984375 36.375 \nQ 6.984375 53.65625 15.1875 63.9375 \nQ 23.390625 74.21875 37.203125 74.21875 \nQ 40.921875 74.21875 44.703125 73.484375 \nQ 48.484375 72.75 52.59375 71.296875 \nz\n\" id=\"DejaVuSans-54\"/>\n      </defs>\n      <g transform=\"translate(20.878125 181.10491)scale(0.1 -0.1)\">\n       <use xlink:href=\"#DejaVuSans-48\"/>\n       <use x=\"63.623047\" xlink:href=\"#DejaVuSans-46\"/>\n       <use x=\"95.410156\" xlink:href=\"#DejaVuSans-54\"/>\n      </g>\n     </g>\n    </g>\n    <g id=\"ytick_5\">\n     <g id=\"line2d_19\">\n      <path clip-path=\"url(#p6f656e9468)\" d=\"M 43.78125 91.582895 \nL 657.58125 91.582895 \n\" style=\"fill:none;stroke:#b0b0b0;stroke-linecap:square;stroke-width:0.8;\"/>\n     </g>\n     <g id=\"line2d_20\">\n      <g>\n       <use style=\"stroke:#000000;stroke-width:0.8;\" x=\"43.78125\" xlink:href=\"#mae1f2d9be0\" y=\"91.582895\"/>\n      </g>\n     </g>\n     <g id=\"text_11\">\n      <!-- 0.8 -->\n      <defs>\n       <path d=\"M 31.78125 34.625 \nQ 24.75 34.625 20.71875 30.859375 \nQ 16.703125 27.09375 16.703125 20.515625 \nQ 16.703125 13.921875 20.71875 10.15625 \nQ 24.75 6.390625 31.78125 6.390625 \nQ 38.8125 6.390625 42.859375 10.171875 \nQ 46.921875 13.96875 46.921875 20.515625 \nQ 46.921875 27.09375 42.890625 30.859375 \nQ 38.875 34.625 31.78125 34.625 \nz\nM 21.921875 38.8125 \nQ 15.578125 40.375 12.03125 44.71875 \nQ 8.5 49.078125 8.5 55.328125 \nQ 8.5 64.0625 14.71875 69.140625 \nQ 20.953125 74.21875 31.78125 74.21875 \nQ 42.671875 74.21875 48.875 69.140625 \nQ 55.078125 64.0625 55.078125 55.328125 \nQ 55.078125 49.078125 51.53125 44.71875 \nQ 48 40.375 41.703125 38.8125 \nQ 48.828125 37.15625 52.796875 32.3125 \nQ 56.78125 27.484375 56.78125 20.515625 \nQ 56.78125 9.90625 50.3125 4.234375 \nQ 43.84375 -1.421875 31.78125 -1.421875 \nQ 19.734375 -1.421875 13.25 4.234375 \nQ 6.78125 9.90625 6.78125 20.515625 \nQ 6.78125 27.484375 10.78125 32.3125 \nQ 14.796875 37.15625 21.921875 38.8125 \nz\nM 18.3125 54.390625 \nQ 18.3125 48.734375 21.84375 45.5625 \nQ 25.390625 42.390625 31.78125 42.390625 \nQ 38.140625 42.390625 41.71875 45.5625 \nQ 45.3125 48.734375 45.3125 54.390625 \nQ 45.3125 60.0625 41.71875 63.234375 \nQ 38.140625 66.40625 31.78125 66.40625 \nQ 25.390625 66.40625 21.84375 63.234375 \nQ 18.3125 60.0625 18.3125 54.390625 \nz\n\" id=\"DejaVuSans-56\"/>\n      </defs>\n      <g transform=\"translate(20.878125 95.382114)scale(0.1 -0.1)\">\n       <use xlink:href=\"#DejaVuSans-48\"/>\n       <use x=\"63.623047\" xlink:href=\"#DejaVuSans-46\"/>\n       <use x=\"95.410156\" xlink:href=\"#DejaVuSans-56\"/>\n      </g>\n     </g>\n    </g>\n    <g id=\"text_12\">\n     <!-- y (m) -->\n     <defs>\n      <path d=\"M 32.171875 -5.078125 \nQ 28.375 -14.84375 24.75 -17.8125 \nQ 21.140625 -20.796875 15.09375 -20.796875 \nL 7.90625 -20.796875 \nL 7.90625 -13.28125 \nL 13.1875 -13.28125 \nQ 16.890625 -13.28125 18.9375 -11.515625 \nQ 21 -9.765625 23.484375 -3.21875 \nL 25.09375 0.875 \nL 2.984375 54.6875 \nL 12.5 54.6875 \nL 29.59375 11.921875 \nL 46.6875 54.6875 \nL 56.203125 54.6875 \nz\n\" id=\"DejaVuSans-121\"/>\n     </defs>\n     <g transform=\"translate(14.798438 253.078437)rotate(-90)scale(0.1 -0.1)\">\n      <use xlink:href=\"#DejaVuSans-121\"/>\n      <use x=\"59.179688\" xlink:href=\"#DejaVuSans-32\"/>\n      <use x=\"90.966797\" xlink:href=\"#DejaVuSans-40\"/>\n      <use x=\"129.980469\" xlink:href=\"#DejaVuSans-109\"/>\n      <use x=\"227.392578\" xlink:href=\"#DejaVuSans-41\"/>\n     </g>\n    </g>\n   </g>\n   <g id=\"patch_3\">\n    <path d=\"M 43.78125 457.198125 \nL 43.78125 22.318125 \n\" style=\"fill:none;stroke:#000000;stroke-linecap:square;stroke-linejoin:miter;stroke-width:0.8;\"/>\n   </g>\n   <g id=\"patch_4\">\n    <path d=\"M 657.58125 457.198125 \nL 657.58125 22.318125 \n\" style=\"fill:none;stroke:#000000;stroke-linecap:square;stroke-linejoin:miter;stroke-width:0.8;\"/>\n   </g>\n   <g id=\"patch_5\">\n    <path d=\"M 43.78125 457.198125 \nL 657.58125 457.198125 \n\" style=\"fill:none;stroke:#000000;stroke-linecap:square;stroke-linejoin:miter;stroke-width:0.8;\"/>\n   </g>\n   <g id=\"patch_6\">\n    <path d=\"M 43.78125 22.318125 \nL 657.58125 22.318125 \n\" style=\"fill:none;stroke:#000000;stroke-linecap:square;stroke-linejoin:miter;stroke-width:0.8;\"/>\n   </g>\n   <g id=\"text_13\">\n    <!-- ID:0 -->\n    <defs>\n     <path d=\"M 9.8125 72.90625 \nL 19.671875 72.90625 \nL 19.671875 0 \nL 9.8125 0 \nz\n\" id=\"DejaVuSans-73\"/>\n     <path d=\"M 19.671875 64.796875 \nL 19.671875 8.109375 \nL 31.59375 8.109375 \nQ 46.6875 8.109375 53.6875 14.9375 \nQ 60.6875 21.78125 60.6875 36.53125 \nQ 60.6875 51.171875 53.6875 57.984375 \nQ 46.6875 64.796875 31.59375 64.796875 \nz\nM 9.8125 72.90625 \nL 30.078125 72.90625 \nQ 51.265625 72.90625 61.171875 64.09375 \nQ 71.09375 55.28125 71.09375 36.53125 \nQ 71.09375 17.671875 61.125 8.828125 \nQ 51.171875 0 30.078125 0 \nL 9.8125 0 \nz\n\" id=\"DejaVuSans-68\"/>\n     <path d=\"M 11.71875 12.40625 \nL 22.015625 12.40625 \nL 22.015625 0 \nL 11.71875 0 \nz\nM 11.71875 51.703125 \nL 22.015625 51.703125 \nL 22.015625 39.3125 \nL 11.71875 39.3125 \nz\n\" id=\"DejaVuSans-58\"/>\n    </defs>\n    <g transform=\"translate(76.119697 421.615659)scale(0.09 -0.09)\">\n     <use xlink:href=\"#DejaVuSans-73\"/>\n     <use x=\"29.492188\" xlink:href=\"#DejaVuSans-68\"/>\n     <use x=\"106.494141\" xlink:href=\"#DejaVuSans-58\"/>\n     <use x=\"140.185547\" xlink:href=\"#DejaVuSans-48\"/>\n    </g>\n   </g>\n   <g id=\"text_14\">\n    <!-- ID:1 -->\n    <g transform=\"translate(633.491205 29.271852)scale(0.09 -0.09)\">\n     <use xlink:href=\"#DejaVuSans-73\"/>\n     <use x=\"29.492188\" xlink:href=\"#DejaVuSans-68\"/>\n     <use x=\"106.494141\" xlink:href=\"#DejaVuSans-58\"/>\n     <use x=\"140.185547\" xlink:href=\"#DejaVuSans-49\"/>\n    </g>\n   </g>\n   <g id=\"text_15\">\n    <!-- Object Landmarks -->\n    <defs>\n     <path d=\"M 39.40625 66.21875 \nQ 28.65625 66.21875 22.328125 58.203125 \nQ 16.015625 50.203125 16.015625 36.375 \nQ 16.015625 22.609375 22.328125 14.59375 \nQ 28.65625 6.59375 39.40625 6.59375 \nQ 50.140625 6.59375 56.421875 14.59375 \nQ 62.703125 22.609375 62.703125 36.375 \nQ 62.703125 50.203125 56.421875 58.203125 \nQ 50.140625 66.21875 39.40625 66.21875 \nz\nM 39.40625 74.21875 \nQ 54.734375 74.21875 63.90625 63.9375 \nQ 73.09375 53.65625 73.09375 36.375 \nQ 73.09375 19.140625 63.90625 8.859375 \nQ 54.734375 -1.421875 39.40625 -1.421875 \nQ 24.03125 -1.421875 14.8125 8.828125 \nQ 5.609375 19.09375 5.609375 36.375 \nQ 5.609375 53.65625 14.8125 63.9375 \nQ 24.03125 74.21875 39.40625 74.21875 \nz\n\" id=\"DejaVuSans-79\"/>\n     <path d=\"M 48.6875 27.296875 \nQ 48.6875 37.203125 44.609375 42.84375 \nQ 40.53125 48.484375 33.40625 48.484375 \nQ 26.265625 48.484375 22.1875 42.84375 \nQ 18.109375 37.203125 18.109375 27.296875 \nQ 18.109375 17.390625 22.1875 11.75 \nQ 26.265625 6.109375 33.40625 6.109375 \nQ 40.53125 6.109375 44.609375 11.75 \nQ 48.6875 17.390625 48.6875 27.296875 \nz\nM 18.109375 46.390625 \nQ 20.953125 51.265625 25.265625 53.625 \nQ 29.59375 56 35.59375 56 \nQ 45.5625 56 51.78125 48.09375 \nQ 58.015625 40.1875 58.015625 27.296875 \nQ 58.015625 14.40625 51.78125 6.484375 \nQ 45.5625 -1.421875 35.59375 -1.421875 \nQ 29.59375 -1.421875 25.265625 0.953125 \nQ 20.953125 3.328125 18.109375 8.203125 \nL 18.109375 0 \nL 9.078125 0 \nL 9.078125 75.984375 \nL 18.109375 75.984375 \nz\n\" id=\"DejaVuSans-98\"/>\n     <path d=\"M 9.421875 54.6875 \nL 18.40625 54.6875 \nL 18.40625 -0.984375 \nQ 18.40625 -11.421875 14.421875 -16.109375 \nQ 10.453125 -20.796875 1.609375 -20.796875 \nL -1.8125 -20.796875 \nL -1.8125 -13.1875 \nL 0.59375 -13.1875 \nQ 5.71875 -13.1875 7.5625 -10.8125 \nQ 9.421875 -8.453125 9.421875 -0.984375 \nz\nM 9.421875 75.984375 \nL 18.40625 75.984375 \nL 18.40625 64.59375 \nL 9.421875 64.59375 \nz\n\" id=\"DejaVuSans-106\"/>\n     <path d=\"M 56.203125 29.59375 \nL 56.203125 25.203125 \nL 14.890625 25.203125 \nQ 15.484375 15.921875 20.484375 11.0625 \nQ 25.484375 6.203125 34.421875 6.203125 \nQ 39.59375 6.203125 44.453125 7.46875 \nQ 49.3125 8.734375 54.109375 11.28125 \nL 54.109375 2.78125 \nQ 49.265625 0.734375 44.1875 -0.34375 \nQ 39.109375 -1.421875 33.890625 -1.421875 \nQ 20.796875 -1.421875 13.15625 6.1875 \nQ 5.515625 13.8125 5.515625 26.8125 \nQ 5.515625 40.234375 12.765625 48.109375 \nQ 20.015625 56 32.328125 56 \nQ 43.359375 56 49.78125 48.890625 \nQ 56.203125 41.796875 56.203125 29.59375 \nz\nM 47.21875 32.234375 \nQ 47.125 39.59375 43.09375 43.984375 \nQ 39.0625 48.390625 32.421875 48.390625 \nQ 24.90625 48.390625 20.390625 44.140625 \nQ 15.875 39.890625 15.1875 32.171875 \nz\n\" id=\"DejaVuSans-101\"/>\n     <path d=\"M 48.78125 52.59375 \nL 48.78125 44.1875 \nQ 44.96875 46.296875 41.140625 47.34375 \nQ 37.3125 48.390625 33.40625 48.390625 \nQ 24.65625 48.390625 19.8125 42.84375 \nQ 14.984375 37.3125 14.984375 27.296875 \nQ 14.984375 17.28125 19.8125 11.734375 \nQ 24.65625 6.203125 33.40625 6.203125 \nQ 37.3125 6.203125 41.140625 7.25 \nQ 44.96875 8.296875 48.78125 10.40625 \nL 48.78125 2.09375 \nQ 45.015625 0.34375 40.984375 -0.53125 \nQ 36.96875 -1.421875 32.421875 -1.421875 \nQ 20.0625 -1.421875 12.78125 6.34375 \nQ 5.515625 14.109375 5.515625 27.296875 \nQ 5.515625 40.671875 12.859375 48.328125 \nQ 20.21875 56 33.015625 56 \nQ 37.15625 56 41.109375 55.140625 \nQ 45.0625 54.296875 48.78125 52.59375 \nz\n\" id=\"DejaVuSans-99\"/>\n     <path d=\"M 18.3125 70.21875 \nL 18.3125 54.6875 \nL 36.8125 54.6875 \nL 36.8125 47.703125 \nL 18.3125 47.703125 \nL 18.3125 18.015625 \nQ 18.3125 11.328125 20.140625 9.421875 \nQ 21.96875 7.515625 27.59375 7.515625 \nL 36.8125 7.515625 \nL 36.8125 0 \nL 27.59375 0 \nQ 17.1875 0 13.234375 3.875 \nQ 9.28125 7.765625 9.28125 18.015625 \nL 9.28125 47.703125 \nL 2.6875 47.703125 \nL 2.6875 54.6875 \nL 9.28125 54.6875 \nL 9.28125 70.21875 \nz\n\" id=\"DejaVuSans-116\"/>\n     <path d=\"M 9.8125 72.90625 \nL 19.671875 72.90625 \nL 19.671875 8.296875 \nL 55.171875 8.296875 \nL 55.171875 0 \nL 9.8125 0 \nz\n\" id=\"DejaVuSans-76\"/>\n     <path d=\"M 34.28125 27.484375 \nQ 23.390625 27.484375 19.1875 25 \nQ 14.984375 22.515625 14.984375 16.5 \nQ 14.984375 11.71875 18.140625 8.90625 \nQ 21.296875 6.109375 26.703125 6.109375 \nQ 34.1875 6.109375 38.703125 11.40625 \nQ 43.21875 16.703125 43.21875 25.484375 \nL 43.21875 27.484375 \nz\nM 52.203125 31.203125 \nL 52.203125 0 \nL 43.21875 0 \nL 43.21875 8.296875 \nQ 40.140625 3.328125 35.546875 0.953125 \nQ 30.953125 -1.421875 24.3125 -1.421875 \nQ 15.921875 -1.421875 10.953125 3.296875 \nQ 6 8.015625 6 15.921875 \nQ 6 25.140625 12.171875 29.828125 \nQ 18.359375 34.515625 30.609375 34.515625 \nL 43.21875 34.515625 \nL 43.21875 35.40625 \nQ 43.21875 41.609375 39.140625 45 \nQ 35.0625 48.390625 27.6875 48.390625 \nQ 23 48.390625 18.546875 47.265625 \nQ 14.109375 46.140625 10.015625 43.890625 \nL 10.015625 52.203125 \nQ 14.9375 54.109375 19.578125 55.046875 \nQ 24.21875 56 28.609375 56 \nQ 40.484375 56 46.34375 49.84375 \nQ 52.203125 43.703125 52.203125 31.203125 \nz\n\" id=\"DejaVuSans-97\"/>\n     <path d=\"M 54.890625 33.015625 \nL 54.890625 0 \nL 45.90625 0 \nL 45.90625 32.71875 \nQ 45.90625 40.484375 42.875 44.328125 \nQ 39.84375 48.1875 33.796875 48.1875 \nQ 26.515625 48.1875 22.3125 43.546875 \nQ 18.109375 38.921875 18.109375 30.90625 \nL 18.109375 0 \nL 9.078125 0 \nL 9.078125 54.6875 \nL 18.109375 54.6875 \nL 18.109375 46.1875 \nQ 21.34375 51.125 25.703125 53.5625 \nQ 30.078125 56 35.796875 56 \nQ 45.21875 56 50.046875 50.171875 \nQ 54.890625 44.34375 54.890625 33.015625 \nz\n\" id=\"DejaVuSans-110\"/>\n     <path d=\"M 45.40625 46.390625 \nL 45.40625 75.984375 \nL 54.390625 75.984375 \nL 54.390625 0 \nL 45.40625 0 \nL 45.40625 8.203125 \nQ 42.578125 3.328125 38.25 0.953125 \nQ 33.9375 -1.421875 27.875 -1.421875 \nQ 17.96875 -1.421875 11.734375 6.484375 \nQ 5.515625 14.40625 5.515625 27.296875 \nQ 5.515625 40.1875 11.734375 48.09375 \nQ 17.96875 56 27.875 56 \nQ 33.9375 56 38.25 53.625 \nQ 42.578125 51.265625 45.40625 46.390625 \nz\nM 14.796875 27.296875 \nQ 14.796875 17.390625 18.875 11.75 \nQ 22.953125 6.109375 30.078125 6.109375 \nQ 37.203125 6.109375 41.296875 11.75 \nQ 45.40625 17.390625 45.40625 27.296875 \nQ 45.40625 37.203125 41.296875 42.84375 \nQ 37.203125 48.484375 30.078125 48.484375 \nQ 22.953125 48.484375 18.875 42.84375 \nQ 14.796875 37.203125 14.796875 27.296875 \nz\n\" id=\"DejaVuSans-100\"/>\n     <path d=\"M 41.109375 46.296875 \nQ 39.59375 47.171875 37.8125 47.578125 \nQ 36.03125 48 33.890625 48 \nQ 26.265625 48 22.1875 43.046875 \nQ 18.109375 38.09375 18.109375 28.8125 \nL 18.109375 0 \nL 9.078125 0 \nL 9.078125 54.6875 \nL 18.109375 54.6875 \nL 18.109375 46.1875 \nQ 20.953125 51.171875 25.484375 53.578125 \nQ 30.03125 56 36.53125 56 \nQ 37.453125 56 38.578125 55.875 \nQ 39.703125 55.765625 41.0625 55.515625 \nz\n\" id=\"DejaVuSans-114\"/>\n     <path d=\"M 9.078125 75.984375 \nL 18.109375 75.984375 \nL 18.109375 31.109375 \nL 44.921875 54.6875 \nL 56.390625 54.6875 \nL 27.390625 29.109375 \nL 57.625 0 \nL 45.90625 0 \nL 18.109375 26.703125 \nL 18.109375 0 \nL 9.078125 0 \nz\n\" id=\"DejaVuSans-107\"/>\n     <path d=\"M 44.28125 53.078125 \nL 44.28125 44.578125 \nQ 40.484375 46.53125 36.375 47.5 \nQ 32.28125 48.484375 27.875 48.484375 \nQ 21.1875 48.484375 17.84375 46.4375 \nQ 14.5 44.390625 14.5 40.28125 \nQ 14.5 37.15625 16.890625 35.375 \nQ 19.28125 33.59375 26.515625 31.984375 \nL 29.59375 31.296875 \nQ 39.15625 29.25 43.1875 25.515625 \nQ 47.21875 21.78125 47.21875 15.09375 \nQ 47.21875 7.46875 41.1875 3.015625 \nQ 35.15625 -1.421875 24.609375 -1.421875 \nQ 20.21875 -1.421875 15.453125 -0.5625 \nQ 10.6875 0.296875 5.421875 2 \nL 5.421875 11.28125 \nQ 10.40625 8.6875 15.234375 7.390625 \nQ 20.0625 6.109375 24.8125 6.109375 \nQ 31.15625 6.109375 34.5625 8.28125 \nQ 37.984375 10.453125 37.984375 14.40625 \nQ 37.984375 18.0625 35.515625 20.015625 \nQ 33.0625 21.96875 24.703125 23.78125 \nL 21.578125 24.515625 \nQ 13.234375 26.265625 9.515625 29.90625 \nQ 5.8125 33.546875 5.8125 39.890625 \nQ 5.8125 47.609375 11.28125 51.796875 \nQ 16.75 56 26.8125 56 \nQ 31.78125 56 36.171875 55.265625 \nQ 40.578125 54.546875 44.28125 53.078125 \nz\n\" id=\"DejaVuSans-115\"/>\n    </defs>\n    <g transform=\"translate(296.012813 16.318125)scale(0.12 -0.12)\">\n     <use xlink:href=\"#DejaVuSans-79\"/>\n     <use x=\"78.710938\" xlink:href=\"#DejaVuSans-98\"/>\n     <use x=\"142.1875\" xlink:href=\"#DejaVuSans-106\"/>\n     <use x=\"169.970703\" xlink:href=\"#DejaVuSans-101\"/>\n     <use x=\"231.494141\" xlink:href=\"#DejaVuSans-99\"/>\n     <use x=\"286.474609\" xlink:href=\"#DejaVuSans-116\"/>\n     <use x=\"325.683594\" xlink:href=\"#DejaVuSans-32\"/>\n     <use x=\"357.470703\" xlink:href=\"#DejaVuSans-76\"/>\n     <use x=\"413.183594\" xlink:href=\"#DejaVuSans-97\"/>\n     <use x=\"474.462891\" xlink:href=\"#DejaVuSans-110\"/>\n     <use x=\"537.841797\" xlink:href=\"#DejaVuSans-100\"/>\n     <use x=\"601.318359\" xlink:href=\"#DejaVuSans-109\"/>\n     <use x=\"698.730469\" xlink:href=\"#DejaVuSans-97\"/>\n     <use x=\"760.009766\" xlink:href=\"#DejaVuSans-114\"/>\n     <use x=\"801.123047\" xlink:href=\"#DejaVuSans-107\"/>\n     <use x=\"859.033203\" xlink:href=\"#DejaVuSans-115\"/>\n    </g>\n   </g>\n   <g id=\"legend_1\">\n    <g id=\"patch_7\">\n     <path d=\"M 50.78125 74.3525 \nL 110.315625 74.3525 \nQ 112.315625 74.3525 112.315625 72.3525 \nL 112.315625 29.318125 \nQ 112.315625 27.318125 110.315625 27.318125 \nL 50.78125 27.318125 \nQ 48.78125 27.318125 48.78125 29.318125 \nL 48.78125 72.3525 \nQ 48.78125 74.3525 50.78125 74.3525 \nz\n\" style=\"fill:#ffffff;opacity:0.8;stroke:#cccccc;stroke-linejoin:miter;\"/>\n    </g>\n    <g id=\"PathCollection_4\">\n     <g>\n      <use style=\"fill:#0000ff;stroke:#0000ff;\" x=\"62.78125\" xlink:href=\"#m4659e3bd50\" y=\"36.291562\"/>\n     </g>\n    </g>\n    <g id=\"text_16\">\n     <!-- tree -->\n     <g transform=\"translate(80.78125 38.916562)scale(0.1 -0.1)\">\n      <use xlink:href=\"#DejaVuSans-116\"/>\n      <use x=\"39.208984\" xlink:href=\"#DejaVuSans-114\"/>\n      <use x=\"80.291016\" xlink:href=\"#DejaVuSans-101\"/>\n      <use x=\"141.814453\" xlink:href=\"#DejaVuSans-101\"/>\n     </g>\n    </g>\n    <g id=\"PathCollection_5\">\n     <g>\n      <use style=\"fill:#0000ff;stroke:#0000ff;\" x=\"62.78125\" xlink:href=\"#m4659e3bd50\" y=\"50.969687\"/>\n     </g>\n    </g>\n    <g id=\"text_17\">\n     <!-- tree -->\n     <g transform=\"translate(80.78125 53.594687)scale(0.1 -0.1)\">\n      <use xlink:href=\"#DejaVuSans-116\"/>\n      <use x=\"39.208984\" xlink:href=\"#DejaVuSans-114\"/>\n      <use x=\"80.291016\" xlink:href=\"#DejaVuSans-101\"/>\n      <use x=\"141.814453\" xlink:href=\"#DejaVuSans-101\"/>\n     </g>\n    </g>\n    <g id=\"PathCollection_6\">\n     <g>\n      <use style=\"fill:#ff0000;stroke:#ff0000;stroke-width:1.5;\" x=\"62.78125\" xlink:href=\"#mc519d2e71c\" y=\"65.647812\"/>\n     </g>\n    </g>\n    <g id=\"text_18\">\n     <!-- world -->\n     <defs>\n      <path d=\"M 4.203125 54.6875 \nL 13.1875 54.6875 \nL 24.421875 12.015625 \nL 35.59375 54.6875 \nL 46.1875 54.6875 \nL 57.421875 12.015625 \nL 68.609375 54.6875 \nL 77.59375 54.6875 \nL 63.28125 0 \nL 52.6875 0 \nL 40.921875 44.828125 \nL 29.109375 0 \nL 18.5 0 \nz\n\" id=\"DejaVuSans-119\"/>\n      <path d=\"M 30.609375 48.390625 \nQ 23.390625 48.390625 19.1875 42.75 \nQ 14.984375 37.109375 14.984375 27.296875 \nQ 14.984375 17.484375 19.15625 11.84375 \nQ 23.34375 6.203125 30.609375 6.203125 \nQ 37.796875 6.203125 41.984375 11.859375 \nQ 46.1875 17.53125 46.1875 27.296875 \nQ 46.1875 37.015625 41.984375 42.703125 \nQ 37.796875 48.390625 30.609375 48.390625 \nz\nM 30.609375 56 \nQ 42.328125 56 49.015625 48.375 \nQ 55.71875 40.765625 55.71875 27.296875 \nQ 55.71875 13.875 49.015625 6.21875 \nQ 42.328125 -1.421875 30.609375 -1.421875 \nQ 18.84375 -1.421875 12.171875 6.21875 \nQ 5.515625 13.875 5.515625 27.296875 \nQ 5.515625 40.765625 12.171875 48.375 \nQ 18.84375 56 30.609375 56 \nz\n\" id=\"DejaVuSans-111\"/>\n      <path d=\"M 9.421875 75.984375 \nL 18.40625 75.984375 \nL 18.40625 0 \nL 9.421875 0 \nz\n\" id=\"DejaVuSans-108\"/>\n     </defs>\n     <g transform=\"translate(80.78125 68.272812)scale(0.1 -0.1)\">\n      <use xlink:href=\"#DejaVuSans-119\"/>\n      <use x=\"81.787109\" xlink:href=\"#DejaVuSans-111\"/>\n      <use x=\"142.96875\" xlink:href=\"#DejaVuSans-114\"/>\n      <use x=\"184.082031\" xlink:href=\"#DejaVuSans-108\"/>\n      <use x=\"211.865234\" xlink:href=\"#DejaVuSans-100\"/>\n     </g>\n    </g>\n   </g>\n  </g>\n </g>\n <defs>\n  <clipPath id=\"p6f656e9468\">\n   <rect height=\"434.88\" width=\"613.8\" x=\"43.78125\" y=\"22.318125\"/>\n  </clipPath>\n </defs>\n</svg>\n",
      "text/plain": "<Figure size 792x576 with 1 Axes>"
     },
     "metadata": {
      "needs_background": "light"
     },
     "output_type": "display_data"
    }
   ],
   "source": [
    "# Plot 2d Object in Ref ID cooridinate\n",
    "REF_ID=0\n",
    "plt.figure(figsize=(11,8))\n",
    "plt.ylabel('y (m)')\n",
    "plt.xlabel('x (m)')\n",
    "plt.title('Object Landmarks')\n",
    "plt.grid(True)\n",
    "# Draw object center\n",
    "centroids = None\n",
    "if USE_SHIFT_CENTROID:\n",
    "    centroids = objects[['#id','x_cloud', 'y_cloud', 'z_cloud']]\n",
    "else:\n",
    "    centroids = objects[['#id','x', 'y', 'z']]\n",
    "\n",
    "T_ref = objects[objects['#id'] == REF_ID].iloc[0]['T']\n",
    "# origin\n",
    "origin_ref = np.matmul(T_ref, np.array([0,0,0,1]).T)[:2]\n",
    "\n",
    "points_data = np.asarray(centroids)\n",
    "centroids_ref = get_local_points(T_ref, points_data[:, 1:])\n",
    "out = np.zeros((points_data.shape[0], 3)) #id, x, y\n",
    "out[:, 0] = points_data[:, 0]\n",
    "out[:, 1:] = points_data[:, 1:3]\n",
    "for obj in out:\n",
    "    if int(obj[0]) == REF_ID:\n",
    "        plt.scatter(0, 0, marker='o', color='b', label='tree')\n",
    "        plt.text(.03, .03, 'ID:0', fontsize=9)\n",
    "    else:\n",
    "        plt.scatter(obj[1], obj[2], marker='o', color='b', label='tree')\n",
    "        plt.text(obj[1]+.03, obj[2]+.03, 'ID:{}'.format(int(obj[0])), fontsize=9)\n",
    "\n",
    "# plot origin\n",
    "plt.scatter(origin_ref[0], origin_ref[1], marker='x', color='r', label='world')\n",
    "\n",
    "\n",
    "# plt.plot(objects['x'][IDX], objects['z'][IDX], 'ro', color='b', label='objects')\n",
    "\n",
    "plt.legend()\n"
   ]
  },
  {
   "cell_type": "code",
   "execution_count": 63,
   "metadata": {},
   "outputs": [
    {
     "data": {
      "text/plain": "array([[2.137294, 0.601331, 3.877034],\n       [4.381115, 0.915378, 5.465585]])"
     },
     "execution_count": 63,
     "metadata": {},
     "output_type": "execute_result"
    }
   ],
   "source": [
    "np.asarray(objects[['x', 'y', 'z']])"
   ]
  },
  {
   "cell_type": "code",
   "execution_count": 21,
   "metadata": {},
   "outputs": [],
   "source": [
    "# DO NOT USE map_cloud_0, use world\n",
    "tree_clouds = naive_get_tree_cloud_in_objects(map_cloud, objects, size_xy=(1.5,1.5), height_min=0)\n",
    "recon = reconstruct_world_cloud(tree_clouds, objects, ref_id=0)\n",
    "recon_each = reconstruct_each_object_clouds_world(tree_clouds, objects, ref_id=0)\n",
    "pcl.save(recon, 'recon.pcd')"
   ]
  },
  {
   "cell_type": "code",
   "execution_count": 92,
   "metadata": {},
   "outputs": [],
   "source": [
    "pcl.save(tree_clouds[1], '1.pcd')"
   ]
  },
  {
   "cell_type": "code",
   "execution_count": 83,
   "metadata": {},
   "outputs": [],
   "source": [
    "OBJECT_ID = 0\n",
    "# Coarse SOR\n",
    "obj = get_row_by_id(objects, OBJECT_ID)\n",
    "fil = tree_clouds[OBJECT_ID].make_statistical_outlier_filter()\n",
    "fil.set_mean_k(40)\n",
    "fil.set_std_dev_mul_thresh(1.0)\n",
    "step0_inliers = fil.filter()\n",
    "pcl.save(step0_inliers, 'step0.pcd')\n",
    "\n",
    "# Remove trunk\n",
    "fil = step0_inliers.make_passthrough_filter()\n",
    "fil.set_filter_field_name('z')\n",
    "fil.set_filter_limits(obj['sz']*2, 99.0)\n",
    "step1_inliers = fil.filter()\n",
    "pcl.save(step1_inliers, 'step1.pcd')\n",
    "\n",
    "# Smooth cylinder surface\n",
    "fil = step1_inliers.make_moving_least_squares()\n",
    "fil.set_search_radius(0.4)\n",
    "fil.set_polynomial_order(2)\n",
    "step2_inliers = fil.process()\n",
    "pcl.save(step2_inliers, 'step2.pcd')\n",
    "\n",
    "# Fine SOR\n",
    "fil = step2_inliers.make_statistical_outlier_filter()\n",
    "fil.set_mean_k(5)\n",
    "fil.set_std_dev_mul_thresh(1.0)\n",
    "step3_inliers = fil.filter()\n",
    "pcl.save(step3_inliers, 'step3.pcd')\n",
    "\n",
    "# SAC_cylinder extraction (not work)\n",
    "# seg = step3_inliers.make_segmenter_normals()\n",
    "# seg.set_optimize_coefficients(True)\n",
    "# seg.set_model_type(pcl.SACMODEL_CYLINDER)\n",
    "# seg.set_method_type(pcl.SAC_RANSAC)\n",
    "# seg.set_max_iterations(10000)\n",
    "# seg.set_normal_distance_weight(0.1)\n",
    "# seg.set_distance_threshold(1) # this is quite sparse pointclouds\n",
    "# seg.set_axis(0,0,1)\n",
    "# indices, model = seg.segment()"
   ]
  },
  {
   "cell_type": "code",
   "execution_count": 147,
   "metadata": {},
   "outputs": [],
   "source": [
    "def post_process_tree_cloud(tree, sz):\n",
    "    # Coarse SOR\n",
    "    fil = tree.make_statistical_outlier_filter()\n",
    "    fil.set_mean_k(40)\n",
    "    fil.set_std_dev_mul_thresh(1.0)\n",
    "    step0_inliers = fil.filter()\n",
    "    # Remove trunk\n",
    "    fil = step0_inliers.make_passthrough_filter()\n",
    "    fil.set_filter_field_name('z')\n",
    "    fil.set_filter_limits(sz*2, 99.0)\n",
    "    step1_inliers = fil.filter()\n",
    "    # Smooth cylinder surface\n",
    "    fil = step1_inliers.make_moving_least_squares()\n",
    "    fil.set_search_radius(0.5)\n",
    "    fil.set_polynomial_order(2)\n",
    "    step2_inliers = fil.process()\n",
    "    # Fine SOR\n",
    "    fil = step2_inliers.make_statistical_outlier_filter()\n",
    "    fil.set_mean_k(10)\n",
    "    fil.set_std_dev_mul_thresh(0.7)\n",
    "    step3_inliers = fil.filter()\n",
    "    return step3_inliers\n",
    "\n",
    "# Assume that trunk and outliers are completely eliminate\n",
    "def get_approx_diameter(cloud):\n",
    "    cloud_array = np.asarray(cloud)\n",
    "    bound_mins = np.min(cloud_array, axis=0)\n",
    "    bound_maxs = np.max(cloud_array, axis=0)\n",
    "    size_x = bound_maxs[0] - bound_mins[0]\n",
    "    size_y = bound_maxs[1] - bound_mins[1]\n",
    "    return np.max((size_x, size_y))\n",
    "\n",
    "def get_approx_diameter_middle_chunk(cloud, percent_cut=0.4):\n",
    "    cloud_array = np.asarray(cloud)\n",
    "    # find middle chunk along z\n",
    "    z_min = np.min(cloud_array[:,2])\n",
    "    z_max = np.max(cloud_array[:,2])\n",
    "    z_size = (z_max - z_min) / 2.0\n",
    "    centroid = np.mean(cloud_array, axis=0)\n",
    "    z_th_upper = centroid[2] + (z_size * percent_cut)\n",
    "    z_th_lower = centroid[2] - (z_size * percent_cut)\n",
    "    cloud_array_inliers = cloud_array[ cloud_array[:, 2] < z_th_upper]\n",
    "    cloud_array_inliers = cloud_array_inliers[ cloud_array_inliers[:, 2] > z_th_lower]\n",
    "\n",
    "    return get_approx_diameter(cloud_array_inliers)"
   ]
  },
  {
   "cell_type": "code",
   "execution_count": 133,
   "metadata": {},
   "outputs": [],
   "source": [
    "for i, cloud in tree_clouds.items():\n",
    "    obj = get_row_by_id(objects, i)\n",
    "    cloud = post_process_tree_cloud(cloud, obj['sz'])\n",
    "    pcl.save(cloud, 'post{}.pcd'.format(i))"
   ]
  },
  {
   "cell_type": "code",
   "execution_count": 148,
   "metadata": {},
   "outputs": [
    {
     "name": "stdout",
     "output_type": "stream",
     "text": "1.0453691\n0.8730954\n"
    }
   ],
   "source": [
    "obj = get_row_by_id(objects, 0)\n",
    "cloud = post_process_tree_cloud(tree_clouds[0], obj['sz'])\n",
    "print(get_approx_diameter(cloud))\n",
    "print(get_approx_diameter_middle_chunk(cloud))"
   ]
  },
  {
   "cell_type": "code",
   "execution_count": 146,
   "metadata": {},
   "outputs": [
    {
     "name": "stdout",
     "output_type": "stream",
     "text": "upper: 0.9747825741767884, lower0.5372941613197326\n"
    },
    {
     "data": {
      "text/plain": "0.8730954"
     },
     "execution_count": 146,
     "metadata": {},
     "output_type": "execute_result"
    }
   ],
   "source": [
    "pcl.save(cloud, 'temp1.pcd')\n",
    "cloud_array = np.asarray(cloud)\n",
    "percent_cut = 0.4\n",
    "# find middle chunk along z\n",
    "z_min = np.min(cloud_array[:,2])\n",
    "z_max = np.max(cloud_array[:,2])\n",
    "z_size = (z_max - z_min) / 2.0\n",
    "centroid = np.mean(cloud_array, axis=0)\n",
    "z_th_upper = centroid[2] + (z_size * percent_cut)\n",
    "z_th_lower = centroid[2] - (z_size * percent_cut)\n",
    "print('upper: {}, lower{}'.format(z_th_upper, z_th_lower))\n",
    "\n",
    "cloud_array_inliers = cloud_array[ cloud_array[:, 2] < z_th_upper]\n",
    "cloud_array_inliers = cloud_array_inliers[ cloud_array_inliers[:, 2] > z_th_lower]\n",
    "\n",
    "pcl.save(pcl.PointCloud(cloud_array_inliers.astype(np.float32)), 'temp2.pcd')\n",
    "bound_mins = np.min(cloud_array_inliers, axis=0)\n",
    "bound_maxs = np.max(cloud_array_inliers, axis=0)\n",
    "size_x = bound_maxs[0] - bound_mins[0]\n",
    "size_y = bound_maxs[1] - bound_mins[1]\n",
    "np.max((size_x, size_y))"
   ]
  },
  {
   "cell_type": "code",
   "execution_count": 116,
   "metadata": {},
   "outputs": [
    {
     "name": "stdout",
     "output_type": "stream",
     "text": "sx:0.9983126521110535, sy:0.32175615429878235\n"
    }
   ],
   "source": []
  },
  {
   "cell_type": "code",
   "execution_count": 117,
   "metadata": {},
   "outputs": [
    {
     "data": {
      "text/plain": "0.783042320012125"
     },
     "execution_count": 117,
     "metadata": {},
     "output_type": "execute_result"
    }
   ],
   "source": [
    "2.46 / np.pi"
   ]
  },
  {
   "cell_type": "code",
   "execution_count": 34,
   "metadata": {},
   "outputs": [
    {
     "data": {
      "text/plain": "['__class__',\n '__delattr__',\n '__dir__',\n '__doc__',\n '__eq__',\n '__format__',\n '__ge__',\n '__getattribute__',\n '__gt__',\n '__hash__',\n '__init__',\n '__le__',\n '__lt__',\n '__ne__',\n '__new__',\n '__reduce__',\n '__reduce_ex__',\n '__repr__',\n '__setattr__',\n '__setstate__',\n '__sizeof__',\n '__str__',\n '__subclasshook__',\n 'process',\n 'set_Compute_Normals',\n 'set_Search_Method',\n 'set_polynomial_fit',\n 'set_polynomial_order',\n 'set_search_radius']"
     },
     "execution_count": 34,
     "metadata": {},
     "output_type": "execute_result"
    }
   ],
   "source": [
    "dir(fil)"
   ]
  },
  {
   "cell_type": "code",
   "execution_count": 129,
   "metadata": {},
   "outputs": [
    {
     "data": {
      "text/html": "<div>\n<style scoped>\n    .dataframe tbody tr th:only-of-type {\n        vertical-align: middle;\n    }\n\n    .dataframe tbody tr th {\n        vertical-align: top;\n    }\n\n    .dataframe thead th {\n        text-align: right;\n    }\n</style>\n<table border=\"1\" class=\"dataframe\">\n  <thead>\n    <tr style=\"text-align: right;\">\n      <th></th>\n      <th>#id</th>\n      <th>label</th>\n      <th>x</th>\n      <th>y</th>\n      <th>z</th>\n      <th>qx</th>\n      <th>qy</th>\n      <th>qz</th>\n      <th>qw</th>\n      <th>sx</th>\n      <th>sy</th>\n      <th>sz</th>\n      <th>T</th>\n      <th>T_ref0</th>\n    </tr>\n  </thead>\n  <tbody>\n    <tr>\n      <th>0</th>\n      <td>0</td>\n      <td>0</td>\n      <td>2.137294</td>\n      <td>0.601331</td>\n      <td>3.877034</td>\n      <td>0.584839</td>\n      <td>-0.324283</td>\n      <td>0.396349</td>\n      <td>0.629056</td>\n      <td>0.431192</td>\n      <td>0.479107</td>\n      <td>0.087841</td>\n      <td>[[0.47549606516709875, -0.8779580353347702, 0....</td>\n      <td>[[1.0, 0.0, 0.0, 0.0], [0.0, 1.0, 0.0, 0.0], [...</td>\n    </tr>\n    <tr>\n      <th>1</th>\n      <td>1</td>\n      <td>0</td>\n      <td>4.381115</td>\n      <td>0.915378</td>\n      <td>5.465585</td>\n      <td>0.601855</td>\n      <td>-0.291490</td>\n      <td>0.361005</td>\n      <td>0.649984</td>\n      <td>0.666446</td>\n      <td>0.372832</td>\n      <td>0.098058</td>\n      <td>[[0.569417798263272, -0.8201646452411815, 0.05...</td>\n      <td>[[0.2707559225102987, -0.09788232827841803, 0....</td>\n    </tr>\n  </tbody>\n</table>\n</div>",
      "text/plain": "   #id  label         x         y         z        qx        qy        qz  \\\n0    0      0  2.137294  0.601331  3.877034  0.584839 -0.324283  0.396349   \n1    1      0  4.381115  0.915378  5.465585  0.601855 -0.291490  0.361005   \n\n         qw        sx        sy        sz  \\\n0  0.629056  0.431192  0.479107  0.087841   \n1  0.649984  0.666446  0.372832  0.098058   \n\n                                                   T  \\\n0  [[0.47549606516709875, -0.8779580353347702, 0....   \n1  [[0.569417798263272, -0.8201646452411815, 0.05...   \n\n                                              T_ref0  \n0  [[1.0, 0.0, 0.0, 0.0], [0.0, 1.0, 0.0, 0.0], [...  \n1  [[0.2707559225102987, -0.09788232827841803, 0....  "
     },
     "execution_count": 129,
     "metadata": {},
     "output_type": "execute_result"
    }
   ],
   "source": [
    "objects"
   ]
  },
  {
   "cell_type": "code",
   "execution_count": 122,
   "metadata": {},
   "outputs": [
    {
     "data": {
      "text/plain": "array([ 77.67544699,   6.5171438 , -16.95360563,   1.        ])"
     },
     "execution_count": 122,
     "metadata": {},
     "output_type": "execute_result"
    }
   ],
   "source": [
    "tf.transformations.inverse_matrix(objects['T_ref0'].iloc[1])[:, 3]"
   ]
  },
  {
   "cell_type": "code",
   "execution_count": 131,
   "metadata": {},
   "outputs": [
    {
     "data": {
      "text/plain": "array([-1.95713391e+01,  1.77010514e-02,  3.75587035e-01])"
     },
     "execution_count": 131,
     "metadata": {},
     "output_type": "execute_result"
    }
   ],
   "source": [
    "tf.transformations.translation_from_matrix(objects['T_ref0'].iloc[1])"
   ]
  },
  {
   "cell_type": "markdown",
   "execution_count": null,
   "metadata": {},
   "outputs": [],
   "source": [
    "Cylinder extraction params\n",
    "http://docs.pointclouds.org/trunk/group__sample__consensus.html"
   ]
  },
  {
   "cell_type": "code",
   "execution_count": null,
   "metadata": {},
   "outputs": [],
   "source": []
  }
 ]
}